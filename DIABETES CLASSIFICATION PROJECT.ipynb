{
 "cells": [
  {
   "cell_type": "markdown",
   "metadata": {},
   "source": [
    "# Diabetes Classification Project"
   ]
  },
  {
   "cell_type": "markdown",
   "metadata": {},
   "source": [
    "For our second data science project, we have chosen a very relevant and important subject: Diabetes. Diabetes is a growing global phenomenon, and it has the potential to be as dangerous as it is prevalent. In fact, it is a leading cause of death worldwide, and mismanaged diabetes is a leading cause to blindness, amputations, kidney failure, heart disease, and other tragic chronic illnesses/disabilities. Though the manifestation of diabetes has a strong genetic factor, Type 2 diabetes (the type of diabetes that develops at a later stage of life) can be prevented, and if it occurs, can be well-managed.\n",
    "\n",
    "Therefore, knowing the factors that are correlated with Diabetes is very helpful in realizing that one may be in a risk group and should take precautionary measures to prevent Diabetes; and thus, this classification task serves us in both data science knowledge and very important health knowledge. For this task, our target will be the existence of Diabetes in an instance (the 'Outcome' column), and the classification will be based upon the other features of each instance."
   ]
  },
  {
   "cell_type": "markdown",
   "metadata": {},
   "source": [
    "# Procedure:\n",
    "\n",
    "1. Cleaning the Data and Feature Engineering\n",
    "2. Visualizing/Getting to Know Our Data\n",
    "3. Testing Different Models\n",
    "4. Fine-Tuning our Models\n",
    "5. Finally: Testing our Best Model"
   ]
  },
  {
   "cell_type": "markdown",
   "metadata": {},
   "source": [
    "# Cleaning the Data & Feature Engineering"
   ]
  },
  {
   "cell_type": "code",
   "execution_count": 1,
   "metadata": {},
   "outputs": [],
   "source": [
    "# First, let's import the necessary tools to proceed and load our datatset\n",
    "\n",
    "import pandas as pd\n",
    "import numpy as np\n",
    "import matplotlib.pyplot as plt\n",
    "import seaborn as sns\n",
    "import sklearn\n",
    "\n",
    "from sklearn.preprocessing import StandardScaler\n",
    "from sklearn.model_selection import train_test_split\n",
    "from sklearn.model_selection import cross_val_score\n",
    "\n",
    "from sklearn.model_selection import cross_val_score\n",
    "from sklearn.model_selection import cross_val_predict\n",
    "\n",
    "\n",
    "from sklearn.dummy import DummyClassifier \n",
    "from sklearn.neighbors import KNeighborsClassifier\n",
    "from sklearn.ensemble import RandomForestClassifier\n",
    "\n",
    "from sklearn.metrics import accuracy_score\n",
    "from sklearn.metrics import precision_score, recall_score, fbeta_score\n",
    "from sklearn.metrics import confusion_matrix\n",
    "from sklearn.metrics import roc_curve\n",
    "from sklearn.metrics import roc_auc_score\n",
    "from sklearn.metrics import precision_recall_curve\n",
    "\n",
    "from sklearn.feature_selection import SelectKBest\n",
    "from sklearn.feature_selection import f_classif"
   ]
  },
  {
   "cell_type": "code",
   "execution_count": 2,
   "metadata": {},
   "outputs": [
    {
     "data": {
      "text/html": [
       "<div>\n",
       "<style scoped>\n",
       "    .dataframe tbody tr th:only-of-type {\n",
       "        vertical-align: middle;\n",
       "    }\n",
       "\n",
       "    .dataframe tbody tr th {\n",
       "        vertical-align: top;\n",
       "    }\n",
       "\n",
       "    .dataframe thead th {\n",
       "        text-align: right;\n",
       "    }\n",
       "</style>\n",
       "<table border=\"1\" class=\"dataframe\">\n",
       "  <thead>\n",
       "    <tr style=\"text-align: right;\">\n",
       "      <th></th>\n",
       "      <th>Pregnancies</th>\n",
       "      <th>Glucose</th>\n",
       "      <th>BloodPressure</th>\n",
       "      <th>SkinThickness</th>\n",
       "      <th>Insulin</th>\n",
       "      <th>BMI</th>\n",
       "      <th>DiabetesPedigreeFunction</th>\n",
       "      <th>Age</th>\n",
       "      <th>Outcome</th>\n",
       "    </tr>\n",
       "  </thead>\n",
       "  <tbody>\n",
       "    <tr>\n",
       "      <th>0</th>\n",
       "      <td>6</td>\n",
       "      <td>148</td>\n",
       "      <td>72</td>\n",
       "      <td>35</td>\n",
       "      <td>0</td>\n",
       "      <td>33.6</td>\n",
       "      <td>0.627</td>\n",
       "      <td>50</td>\n",
       "      <td>1</td>\n",
       "    </tr>\n",
       "    <tr>\n",
       "      <th>1</th>\n",
       "      <td>1</td>\n",
       "      <td>85</td>\n",
       "      <td>66</td>\n",
       "      <td>29</td>\n",
       "      <td>0</td>\n",
       "      <td>26.6</td>\n",
       "      <td>0.351</td>\n",
       "      <td>31</td>\n",
       "      <td>0</td>\n",
       "    </tr>\n",
       "    <tr>\n",
       "      <th>2</th>\n",
       "      <td>8</td>\n",
       "      <td>183</td>\n",
       "      <td>64</td>\n",
       "      <td>0</td>\n",
       "      <td>0</td>\n",
       "      <td>23.3</td>\n",
       "      <td>0.672</td>\n",
       "      <td>32</td>\n",
       "      <td>1</td>\n",
       "    </tr>\n",
       "    <tr>\n",
       "      <th>3</th>\n",
       "      <td>1</td>\n",
       "      <td>89</td>\n",
       "      <td>66</td>\n",
       "      <td>23</td>\n",
       "      <td>94</td>\n",
       "      <td>28.1</td>\n",
       "      <td>0.167</td>\n",
       "      <td>21</td>\n",
       "      <td>0</td>\n",
       "    </tr>\n",
       "    <tr>\n",
       "      <th>4</th>\n",
       "      <td>0</td>\n",
       "      <td>137</td>\n",
       "      <td>40</td>\n",
       "      <td>35</td>\n",
       "      <td>168</td>\n",
       "      <td>43.1</td>\n",
       "      <td>2.288</td>\n",
       "      <td>33</td>\n",
       "      <td>1</td>\n",
       "    </tr>\n",
       "    <tr>\n",
       "      <th>...</th>\n",
       "      <td>...</td>\n",
       "      <td>...</td>\n",
       "      <td>...</td>\n",
       "      <td>...</td>\n",
       "      <td>...</td>\n",
       "      <td>...</td>\n",
       "      <td>...</td>\n",
       "      <td>...</td>\n",
       "      <td>...</td>\n",
       "    </tr>\n",
       "    <tr>\n",
       "      <th>763</th>\n",
       "      <td>10</td>\n",
       "      <td>101</td>\n",
       "      <td>76</td>\n",
       "      <td>48</td>\n",
       "      <td>180</td>\n",
       "      <td>32.9</td>\n",
       "      <td>0.171</td>\n",
       "      <td>63</td>\n",
       "      <td>0</td>\n",
       "    </tr>\n",
       "    <tr>\n",
       "      <th>764</th>\n",
       "      <td>2</td>\n",
       "      <td>122</td>\n",
       "      <td>70</td>\n",
       "      <td>27</td>\n",
       "      <td>0</td>\n",
       "      <td>36.8</td>\n",
       "      <td>0.340</td>\n",
       "      <td>27</td>\n",
       "      <td>0</td>\n",
       "    </tr>\n",
       "    <tr>\n",
       "      <th>765</th>\n",
       "      <td>5</td>\n",
       "      <td>121</td>\n",
       "      <td>72</td>\n",
       "      <td>23</td>\n",
       "      <td>112</td>\n",
       "      <td>26.2</td>\n",
       "      <td>0.245</td>\n",
       "      <td>30</td>\n",
       "      <td>0</td>\n",
       "    </tr>\n",
       "    <tr>\n",
       "      <th>766</th>\n",
       "      <td>1</td>\n",
       "      <td>126</td>\n",
       "      <td>60</td>\n",
       "      <td>0</td>\n",
       "      <td>0</td>\n",
       "      <td>30.1</td>\n",
       "      <td>0.349</td>\n",
       "      <td>47</td>\n",
       "      <td>1</td>\n",
       "    </tr>\n",
       "    <tr>\n",
       "      <th>767</th>\n",
       "      <td>1</td>\n",
       "      <td>93</td>\n",
       "      <td>70</td>\n",
       "      <td>31</td>\n",
       "      <td>0</td>\n",
       "      <td>30.4</td>\n",
       "      <td>0.315</td>\n",
       "      <td>23</td>\n",
       "      <td>0</td>\n",
       "    </tr>\n",
       "  </tbody>\n",
       "</table>\n",
       "<p>768 rows × 9 columns</p>\n",
       "</div>"
      ],
      "text/plain": [
       "     Pregnancies  Glucose  BloodPressure  SkinThickness  Insulin   BMI  \\\n",
       "0              6      148             72             35        0  33.6   \n",
       "1              1       85             66             29        0  26.6   \n",
       "2              8      183             64              0        0  23.3   \n",
       "3              1       89             66             23       94  28.1   \n",
       "4              0      137             40             35      168  43.1   \n",
       "..           ...      ...            ...            ...      ...   ...   \n",
       "763           10      101             76             48      180  32.9   \n",
       "764            2      122             70             27        0  36.8   \n",
       "765            5      121             72             23      112  26.2   \n",
       "766            1      126             60              0        0  30.1   \n",
       "767            1       93             70             31        0  30.4   \n",
       "\n",
       "     DiabetesPedigreeFunction  Age  Outcome  \n",
       "0                       0.627   50        1  \n",
       "1                       0.351   31        0  \n",
       "2                       0.672   32        1  \n",
       "3                       0.167   21        0  \n",
       "4                       2.288   33        1  \n",
       "..                        ...  ...      ...  \n",
       "763                     0.171   63        0  \n",
       "764                     0.340   27        0  \n",
       "765                     0.245   30        0  \n",
       "766                     0.349   47        1  \n",
       "767                     0.315   23        0  \n",
       "\n",
       "[768 rows x 9 columns]"
      ]
     },
     "execution_count": 2,
     "metadata": {},
     "output_type": "execute_result"
    }
   ],
   "source": [
    "# Let's take a look at our data, shall we?\n",
    "\n",
    "df = pd.read_csv('diabetes.csv')\n",
    "\n",
    "df"
   ]
  },
  {
   "cell_type": "code",
   "execution_count": 3,
   "metadata": {},
   "outputs": [
    {
     "name": "stdout",
     "output_type": "stream",
     "text": [
      "<class 'pandas.core.frame.DataFrame'>\n",
      "RangeIndex: 768 entries, 0 to 767\n",
      "Data columns (total 9 columns):\n",
      " #   Column                    Non-Null Count  Dtype  \n",
      "---  ------                    --------------  -----  \n",
      " 0   Pregnancies               768 non-null    int64  \n",
      " 1   Glucose                   768 non-null    int64  \n",
      " 2   BloodPressure             768 non-null    int64  \n",
      " 3   SkinThickness             768 non-null    int64  \n",
      " 4   Insulin                   768 non-null    int64  \n",
      " 5   BMI                       768 non-null    float64\n",
      " 6   DiabetesPedigreeFunction  768 non-null    float64\n",
      " 7   Age                       768 non-null    int64  \n",
      " 8   Outcome                   768 non-null    int64  \n",
      "dtypes: float64(2), int64(7)\n",
      "memory usage: 54.1 KB\n"
     ]
    }
   ],
   "source": [
    "# let's look into the details of each column, to look for null-values and to see the type of type per feature.\n",
    "\n",
    "df.info()"
   ]
  },
  {
   "cell_type": "code",
   "execution_count": 4,
   "metadata": {},
   "outputs": [
    {
     "data": {
      "text/plain": [
       "0"
      ]
     },
     "execution_count": 4,
     "metadata": {},
     "output_type": "execute_result"
    }
   ],
   "source": [
    "# let's take a deeper look at the blood pressure column\n",
    "\n",
    "df['BloodPressure'].min()"
   ]
  },
  {
   "cell_type": "markdown",
   "metadata": {},
   "source": [
    "Here, we noticed that we have an impossible minimum value: 0. It is clear that every 0 value should be treated as a null instance. We decided to solve this problem by filling all 0 values with the mean Blood Pressure."
   ]
  },
  {
   "cell_type": "code",
   "execution_count": 5,
   "metadata": {},
   "outputs": [
    {
     "data": {
      "text/plain": [
       "0      72\n",
       "1      66\n",
       "2      64\n",
       "3      66\n",
       "4      40\n",
       "       ..\n",
       "763    76\n",
       "764    70\n",
       "765    72\n",
       "766    60\n",
       "767    70\n",
       "Name: BloodPressure, Length: 768, dtype: int64"
      ]
     },
     "execution_count": 5,
     "metadata": {},
     "output_type": "execute_result"
    }
   ],
   "source": [
    "blood_pressure_exist = df[df['BloodPressure']!=0]\n",
    "blood_pressure_exist =blood_pressure_exist['BloodPressure']\n",
    "df['BloodPressure']=df['BloodPressure'].apply(lambda x:int(blood_pressure_exist.mean()) if x==0 else x)\n",
    "df['BloodPressure']"
   ]
  },
  {
   "cell_type": "markdown",
   "metadata": {},
   "source": [
    "Furthermore, we decided to feature engineer another feature from the Blood Pressure feature: we will create a column that categorizes an instance as high blood pressure or not, as diabetes and high blood pressure often occur together and the existence of one of these conditions can exacerbate the other (2 in 3 diabetic people have high blood pressure). \n",
    "\n",
    "\n",
    "Diastolic pressure above 80 is considered high blood pressure, and therefore, for every instance that has an 80 or above blood pressure, we will categorize as having high blood pressure."
   ]
  },
  {
   "cell_type": "code",
   "execution_count": 6,
   "metadata": {},
   "outputs": [
    {
     "data": {
      "text/plain": [
       "0    563\n",
       "1    205\n",
       "Name: High_BloodPressure, dtype: int64"
      ]
     },
     "execution_count": 6,
     "metadata": {},
     "output_type": "execute_result"
    }
   ],
   "source": [
    "df['High_BloodPressure']=df['BloodPressure'].apply(lambda x:1 if x>=80 else 0)\n",
    "df['High_BloodPressure'].value_counts()"
   ]
  },
  {
   "cell_type": "markdown",
   "metadata": {},
   "source": [
    "We have noticed that yet another feature of ours has an impossible value of 0: BMI, and therefore we will treat a BMI of 0 as a null value. We decided to solve this problem by filling all 0 values with the median BMI."
   ]
  },
  {
   "cell_type": "code",
   "execution_count": 7,
   "metadata": {},
   "outputs": [
    {
     "data": {
      "text/plain": [
       "0      33.6\n",
       "1      26.6\n",
       "2      23.3\n",
       "3      28.1\n",
       "4      43.1\n",
       "       ... \n",
       "763    32.9\n",
       "764    36.8\n",
       "765    26.2\n",
       "766    30.1\n",
       "767    30.4\n",
       "Name: BMI, Length: 768, dtype: float64"
      ]
     },
     "execution_count": 7,
     "metadata": {},
     "output_type": "execute_result"
    }
   ],
   "source": [
    "bmi_noNull=df[df['BMI']!=0]\n",
    "bmi_noNull['BMI'].median()\n",
    "df['BMI']=df['BMI'].apply(lambda x:bmi_noNull['BMI'].median() if x==0 else x)\n",
    "df['BMI']"
   ]
  },
  {
   "cell_type": "markdown",
   "metadata": {},
   "source": [
    "Furthermore, we have decided to feature engineer another feature from our BMI feature: a feature which categorized Weight ('Weight'): 'underweight' (BMI of 18.5 or less), 'healthy weight' (BMI 18 to 30, not including 30) and 'obese' (a BMI of 30 and above).\n",
    "This feature could be of great importance, as obesity accounts for 80-85% of the risk of developing Type 2 diabetes; whereas Healthy Weight and Underweight may help distinguish the non-diabetic people apart from the diabetic people."
   ]
  },
  {
   "cell_type": "code",
   "execution_count": 8,
   "metadata": {},
   "outputs": [
    {
     "data": {
      "text/plain": [
       "Obese          483\n",
       "Healthy        281\n",
       "UnderWeight      4\n",
       "Name: Weight, dtype: int64"
      ]
     },
     "execution_count": 8,
     "metadata": {},
     "output_type": "execute_result"
    }
   ],
   "source": [
    "def find_weight(position):\n",
    "    if position<18.5:\n",
    "        return 'UnderWeight'\n",
    "    elif position>=18.5 and position<30:\n",
    "        return 'Healthy'\n",
    "    else :\n",
    "        return 'Obese'\n",
    "    \n",
    "df['Weight']=df['BMI'].apply(find_weight)\n",
    "df['Weight'].value_counts()"
   ]
  },
  {
   "cell_type": "markdown",
   "metadata": {},
   "source": [
    "We have noticed that once again we have another feature which has an impossible value of 0: Glucose levels. We decided to solve this problem by filling all 0 values with the mean Glucose value."
   ]
  },
  {
   "cell_type": "code",
   "execution_count": 9,
   "metadata": {},
   "outputs": [],
   "source": [
    "glucose_no_zero=df[df['Glucose']!=0]\n",
    "\n",
    "df['Glucose']=df['Glucose'].apply(lambda x:int(glucose_no_zero['Glucose'].mean()) if x==0 else x)"
   ]
  },
  {
   "cell_type": "markdown",
   "metadata": {},
   "source": [
    "Furthermore, we have decided to feature engineer a feature through the Glucose feature: Glucose Level. Normal blood glucose level (tested while fasting) for non-diabetics is between 3.9 and 7.1 mmol/L (70 and 130 mg/dL), and therefore, we will consider anything below 70 as low and anything above 130 as high. There is great significance to this feature as Glucose Level is the diagnostic measure of diabetes; high glucose levels is a sign of diabetes."
   ]
  },
  {
   "cell_type": "code",
   "execution_count": 10,
   "metadata": {},
   "outputs": [
    {
     "data": {
      "text/plain": [
       "normal_glucose_levels    499\n",
       "high_glucose_levels      258\n",
       "low_glucose_levels        11\n",
       "Name: Glucose_Level, dtype: int64"
      ]
     },
     "execution_count": 10,
     "metadata": {},
     "output_type": "execute_result"
    }
   ],
   "source": [
    "def define_glucose_level(position):\n",
    "    if position<70:\n",
    "        return 'low_glucose_levels'\n",
    "    elif position>=130:\n",
    "        return 'high_glucose_levels'\n",
    "    else:\n",
    "        return 'normal_glucose_levels'\n",
    "    \n",
    "df['Glucose_Level']=df['Glucose'].apply(define_glucose_level)\n",
    "df['Glucose_Level'].value_counts()"
   ]
  },
  {
   "cell_type": "markdown",
   "metadata": {},
   "source": [
    "Yet another feature we have decided to engineer is a feature that accounts for elderly instances; as Type 2 diabetes has a later onset, and is quite common in elderly people. We will set anyone who is 65 years old or older as elderly."
   ]
  },
  {
   "cell_type": "code",
   "execution_count": 11,
   "metadata": {},
   "outputs": [
    {
     "data": {
      "text/plain": [
       "0    752\n",
       "1     16\n",
       "Name: Elderly, dtype: int64"
      ]
     },
     "execution_count": 11,
     "metadata": {},
     "output_type": "execute_result"
    }
   ],
   "source": [
    "df['Elderly']=df['Age'].apply(lambda x:1 if x>=65 else 0)\n",
    "df['Elderly'].value_counts()"
   ]
  },
  {
   "cell_type": "markdown",
   "metadata": {},
   "source": [
    "We have noticed another feature in which has an impossible value of 0: Skin Thicnkess. \n",
    "This box plot of the distribution reveals that there is a great amount of instances in which Skin Thickness was set at this null 0 value:"
   ]
  },
  {
   "cell_type": "code",
   "execution_count": 12,
   "metadata": {},
   "outputs": [
    {
     "data": {
      "text/plain": [
       "<AxesSubplot:>"
      ]
     },
     "execution_count": 12,
     "metadata": {},
     "output_type": "execute_result"
    },
    {
     "data": {
      "image/png": "[encoded data removed]",
      "text/plain": [
       "<Figure size 432x288 with 1 Axes>"
      ]
     },
     "metadata": {
      "needs_background": "light"
     },
     "output_type": "display_data"
    }
   ],
   "source": [
    "df.boxplot(column=['SkinThickness'])"
   ]
  },
  {
   "cell_type": "markdown",
   "metadata": {},
   "source": [
    "Therefore, to counteract this, we will set the null 0 values with the most frequently occuring value (other than 0), and that would be 32."
   ]
  },
  {
   "cell_type": "code",
   "execution_count": 13,
   "metadata": {},
   "outputs": [
    {
     "name": "stdout",
     "output_type": "stream",
     "text": [
      "0    32\n",
      "dtype: int64\n"
     ]
    },
    {
     "data": {
      "text/plain": [
       "0      35\n",
       "1      29\n",
       "2      32\n",
       "3      23\n",
       "4      35\n",
       "       ..\n",
       "763    48\n",
       "764    27\n",
       "765    23\n",
       "766    32\n",
       "767    31\n",
       "Name: SkinThickness, Length: 768, dtype: int64"
      ]
     },
     "execution_count": 13,
     "metadata": {},
     "output_type": "execute_result"
    }
   ],
   "source": [
    "skin_thickness_without=df[df['SkinThickness']!=0]\n",
    "\n",
    "print(skin_thickness_without['SkinThickness'].mode())\n",
    "\n",
    "df['SkinThickness']=df['SkinThickness'].apply(lambda x:32 if x==0 else x)\n",
    "df['SkinThickness']"
   ]
  },
  {
   "cell_type": "markdown",
   "metadata": {},
   "source": [
    "We have decided to engineer a feature from the SkinThickness feature: SkinThickness levels. We have divided it into 10 levels.\n",
    "This feature is indeed relevant as high skin thickness is greatly related to the existence of diabetes."
   ]
  },
  {
   "cell_type": "code",
   "execution_count": 14,
   "metadata": {},
   "outputs": [
    {
     "data": {
      "text/plain": [
       "4     391\n",
       "3     179\n",
       "2     115\n",
       "5      65\n",
       "1       9\n",
       "6       7\n",
       "7       1\n",
       "10      1\n",
       "Name: Thickness_level, dtype: int64"
      ]
     },
     "execution_count": 14,
     "metadata": {},
     "output_type": "execute_result"
    }
   ],
   "source": [
    "def thickness_level(position):\n",
    "    if position<=10:\n",
    "        return 1\n",
    "    elif position<=20:\n",
    "        return 2\n",
    "    elif position<=30:\n",
    "        return 3\n",
    "    elif position<=40:\n",
    "        return 4\n",
    "    elif position<=50:\n",
    "        return 5\n",
    "    elif position<=60:\n",
    "        return 6\n",
    "    elif position<=70:\n",
    "        return 7\n",
    "    elif position<=80:\n",
    "        return 8\n",
    "    elif position<=90:\n",
    "        return 9\n",
    "    else:\n",
    "        return 10\n",
    "    \n",
    "df['Thickness_level']=df['SkinThickness'].apply(thickness_level)\n",
    "df['Thickness_level'].value_counts()"
   ]
  },
  {
   "cell_type": "markdown",
   "metadata": {},
   "source": [
    "Finally, we have noticed that Insulin, too, has impossible values of 0. Let's look at its distribution:"
   ]
  },
  {
   "cell_type": "code",
   "execution_count": 15,
   "metadata": {},
   "outputs": [
    {
     "data": {
      "text/plain": [
       "<AxesSubplot:>"
      ]
     },
     "execution_count": 15,
     "metadata": {},
     "output_type": "execute_result"
    },
    {
     "data": {
      "image/png": "[encoded data removed]",
      "text/plain": [
       "<Figure size 432x288 with 1 Axes>"
      ]
     },
     "metadata": {
      "needs_background": "light"
     },
     "output_type": "display_data"
    }
   ],
   "source": [
    "df.boxplot(column=['Insulin'])"
   ]
  },
  {
   "cell_type": "markdown",
   "metadata": {},
   "source": [
    "Due to the high amount of outliers, we have decided to solve the issue of the null 0 values by filling those values with the median Insulin value (as opposed to the mean) to avoid getting a skewed value."
   ]
  },
  {
   "cell_type": "code",
   "execution_count": 16,
   "metadata": {},
   "outputs": [
    {
     "data": {
      "text/plain": [
       "0      125.0\n",
       "1      125.0\n",
       "2      125.0\n",
       "3       94.0\n",
       "4      168.0\n",
       "       ...  \n",
       "763    180.0\n",
       "764    125.0\n",
       "765    112.0\n",
       "766    125.0\n",
       "767    125.0\n",
       "Name: Insulin, Length: 768, dtype: float64"
      ]
     },
     "execution_count": 16,
     "metadata": {},
     "output_type": "execute_result"
    }
   ],
   "source": [
    "insulin_without_zero=df[df['Insulin']!=0]\n",
    "insulin_without_zero['Insulin'].median()\n",
    "df['Insulin']=df['Insulin'].apply(lambda x:insulin_without_zero['Insulin'].median() if x==0 else x)\n",
    "df['Insulin']"
   ]
  },
  {
   "cell_type": "code",
   "execution_count": 17,
   "metadata": {},
   "outputs": [
    {
     "data": {
      "text/html": [
       "<div>\n",
       "<style scoped>\n",
       "    .dataframe tbody tr th:only-of-type {\n",
       "        vertical-align: middle;\n",
       "    }\n",
       "\n",
       "    .dataframe tbody tr th {\n",
       "        vertical-align: top;\n",
       "    }\n",
       "\n",
       "    .dataframe thead th {\n",
       "        text-align: right;\n",
       "    }\n",
       "</style>\n",
       "<table border=\"1\" class=\"dataframe\">\n",
       "  <thead>\n",
       "    <tr style=\"text-align: right;\">\n",
       "      <th></th>\n",
       "      <th>Pregnancies</th>\n",
       "      <th>Glucose</th>\n",
       "      <th>BloodPressure</th>\n",
       "      <th>SkinThickness</th>\n",
       "      <th>Insulin</th>\n",
       "      <th>BMI</th>\n",
       "      <th>DiabetesPedigreeFunction</th>\n",
       "      <th>Age</th>\n",
       "      <th>Outcome</th>\n",
       "      <th>High_BloodPressure</th>\n",
       "      <th>Weight</th>\n",
       "      <th>Glucose_Level</th>\n",
       "      <th>Elderly</th>\n",
       "      <th>Thickness_level</th>\n",
       "    </tr>\n",
       "  </thead>\n",
       "  <tbody>\n",
       "    <tr>\n",
       "      <th>0</th>\n",
       "      <td>6</td>\n",
       "      <td>148</td>\n",
       "      <td>72</td>\n",
       "      <td>35</td>\n",
       "      <td>125.0</td>\n",
       "      <td>33.6</td>\n",
       "      <td>0.627</td>\n",
       "      <td>50</td>\n",
       "      <td>1</td>\n",
       "      <td>0</td>\n",
       "      <td>Obese</td>\n",
       "      <td>high_glucose_levels</td>\n",
       "      <td>0</td>\n",
       "      <td>4</td>\n",
       "    </tr>\n",
       "    <tr>\n",
       "      <th>1</th>\n",
       "      <td>1</td>\n",
       "      <td>85</td>\n",
       "      <td>66</td>\n",
       "      <td>29</td>\n",
       "      <td>125.0</td>\n",
       "      <td>26.6</td>\n",
       "      <td>0.351</td>\n",
       "      <td>31</td>\n",
       "      <td>0</td>\n",
       "      <td>0</td>\n",
       "      <td>Healthy</td>\n",
       "      <td>normal_glucose_levels</td>\n",
       "      <td>0</td>\n",
       "      <td>3</td>\n",
       "    </tr>\n",
       "    <tr>\n",
       "      <th>2</th>\n",
       "      <td>8</td>\n",
       "      <td>183</td>\n",
       "      <td>64</td>\n",
       "      <td>32</td>\n",
       "      <td>125.0</td>\n",
       "      <td>23.3</td>\n",
       "      <td>0.672</td>\n",
       "      <td>32</td>\n",
       "      <td>1</td>\n",
       "      <td>0</td>\n",
       "      <td>Healthy</td>\n",
       "      <td>high_glucose_levels</td>\n",
       "      <td>0</td>\n",
       "      <td>4</td>\n",
       "    </tr>\n",
       "    <tr>\n",
       "      <th>3</th>\n",
       "      <td>1</td>\n",
       "      <td>89</td>\n",
       "      <td>66</td>\n",
       "      <td>23</td>\n",
       "      <td>94.0</td>\n",
       "      <td>28.1</td>\n",
       "      <td>0.167</td>\n",
       "      <td>21</td>\n",
       "      <td>0</td>\n",
       "      <td>0</td>\n",
       "      <td>Healthy</td>\n",
       "      <td>normal_glucose_levels</td>\n",
       "      <td>0</td>\n",
       "      <td>3</td>\n",
       "    </tr>\n",
       "    <tr>\n",
       "      <th>4</th>\n",
       "      <td>0</td>\n",
       "      <td>137</td>\n",
       "      <td>40</td>\n",
       "      <td>35</td>\n",
       "      <td>168.0</td>\n",
       "      <td>43.1</td>\n",
       "      <td>2.288</td>\n",
       "      <td>33</td>\n",
       "      <td>1</td>\n",
       "      <td>0</td>\n",
       "      <td>Obese</td>\n",
       "      <td>high_glucose_levels</td>\n",
       "      <td>0</td>\n",
       "      <td>4</td>\n",
       "    </tr>\n",
       "    <tr>\n",
       "      <th>...</th>\n",
       "      <td>...</td>\n",
       "      <td>...</td>\n",
       "      <td>...</td>\n",
       "      <td>...</td>\n",
       "      <td>...</td>\n",
       "      <td>...</td>\n",
       "      <td>...</td>\n",
       "      <td>...</td>\n",
       "      <td>...</td>\n",
       "      <td>...</td>\n",
       "      <td>...</td>\n",
       "      <td>...</td>\n",
       "      <td>...</td>\n",
       "      <td>...</td>\n",
       "    </tr>\n",
       "    <tr>\n",
       "      <th>763</th>\n",
       "      <td>10</td>\n",
       "      <td>101</td>\n",
       "      <td>76</td>\n",
       "      <td>48</td>\n",
       "      <td>180.0</td>\n",
       "      <td>32.9</td>\n",
       "      <td>0.171</td>\n",
       "      <td>63</td>\n",
       "      <td>0</td>\n",
       "      <td>0</td>\n",
       "      <td>Obese</td>\n",
       "      <td>normal_glucose_levels</td>\n",
       "      <td>0</td>\n",
       "      <td>5</td>\n",
       "    </tr>\n",
       "    <tr>\n",
       "      <th>764</th>\n",
       "      <td>2</td>\n",
       "      <td>122</td>\n",
       "      <td>70</td>\n",
       "      <td>27</td>\n",
       "      <td>125.0</td>\n",
       "      <td>36.8</td>\n",
       "      <td>0.340</td>\n",
       "      <td>27</td>\n",
       "      <td>0</td>\n",
       "      <td>0</td>\n",
       "      <td>Obese</td>\n",
       "      <td>normal_glucose_levels</td>\n",
       "      <td>0</td>\n",
       "      <td>3</td>\n",
       "    </tr>\n",
       "    <tr>\n",
       "      <th>765</th>\n",
       "      <td>5</td>\n",
       "      <td>121</td>\n",
       "      <td>72</td>\n",
       "      <td>23</td>\n",
       "      <td>112.0</td>\n",
       "      <td>26.2</td>\n",
       "      <td>0.245</td>\n",
       "      <td>30</td>\n",
       "      <td>0</td>\n",
       "      <td>0</td>\n",
       "      <td>Healthy</td>\n",
       "      <td>normal_glucose_levels</td>\n",
       "      <td>0</td>\n",
       "      <td>3</td>\n",
       "    </tr>\n",
       "    <tr>\n",
       "      <th>766</th>\n",
       "      <td>1</td>\n",
       "      <td>126</td>\n",
       "      <td>60</td>\n",
       "      <td>32</td>\n",
       "      <td>125.0</td>\n",
       "      <td>30.1</td>\n",
       "      <td>0.349</td>\n",
       "      <td>47</td>\n",
       "      <td>1</td>\n",
       "      <td>0</td>\n",
       "      <td>Obese</td>\n",
       "      <td>normal_glucose_levels</td>\n",
       "      <td>0</td>\n",
       "      <td>4</td>\n",
       "    </tr>\n",
       "    <tr>\n",
       "      <th>767</th>\n",
       "      <td>1</td>\n",
       "      <td>93</td>\n",
       "      <td>70</td>\n",
       "      <td>31</td>\n",
       "      <td>125.0</td>\n",
       "      <td>30.4</td>\n",
       "      <td>0.315</td>\n",
       "      <td>23</td>\n",
       "      <td>0</td>\n",
       "      <td>0</td>\n",
       "      <td>Obese</td>\n",
       "      <td>normal_glucose_levels</td>\n",
       "      <td>0</td>\n",
       "      <td>4</td>\n",
       "    </tr>\n",
       "  </tbody>\n",
       "</table>\n",
       "<p>768 rows × 14 columns</p>\n",
       "</div>"
      ],
      "text/plain": [
       "     Pregnancies  Glucose  BloodPressure  SkinThickness  Insulin   BMI  \\\n",
       "0              6      148             72             35    125.0  33.6   \n",
       "1              1       85             66             29    125.0  26.6   \n",
       "2              8      183             64             32    125.0  23.3   \n",
       "3              1       89             66             23     94.0  28.1   \n",
       "4              0      137             40             35    168.0  43.1   \n",
       "..           ...      ...            ...            ...      ...   ...   \n",
       "763           10      101             76             48    180.0  32.9   \n",
       "764            2      122             70             27    125.0  36.8   \n",
       "765            5      121             72             23    112.0  26.2   \n",
       "766            1      126             60             32    125.0  30.1   \n",
       "767            1       93             70             31    125.0  30.4   \n",
       "\n",
       "     DiabetesPedigreeFunction  Age  Outcome  High_BloodPressure   Weight  \\\n",
       "0                       0.627   50        1                   0    Obese   \n",
       "1                       0.351   31        0                   0  Healthy   \n",
       "2                       0.672   32        1                   0  Healthy   \n",
       "3                       0.167   21        0                   0  Healthy   \n",
       "4                       2.288   33        1                   0    Obese   \n",
       "..                        ...  ...      ...                 ...      ...   \n",
       "763                     0.171   63        0                   0    Obese   \n",
       "764                     0.340   27        0                   0    Obese   \n",
       "765                     0.245   30        0                   0  Healthy   \n",
       "766                     0.349   47        1                   0    Obese   \n",
       "767                     0.315   23        0                   0    Obese   \n",
       "\n",
       "             Glucose_Level  Elderly  Thickness_level  \n",
       "0      high_glucose_levels        0                4  \n",
       "1    normal_glucose_levels        0                3  \n",
       "2      high_glucose_levels        0                4  \n",
       "3    normal_glucose_levels        0                3  \n",
       "4      high_glucose_levels        0                4  \n",
       "..                     ...      ...              ...  \n",
       "763  normal_glucose_levels        0                5  \n",
       "764  normal_glucose_levels        0                3  \n",
       "765  normal_glucose_levels        0                3  \n",
       "766  normal_glucose_levels        0                4  \n",
       "767  normal_glucose_levels        0                4  \n",
       "\n",
       "[768 rows x 14 columns]"
      ]
     },
     "execution_count": 17,
     "metadata": {},
     "output_type": "execute_result"
    }
   ],
   "source": [
    "# our final cleaned dataset\n",
    "\n",
    "df"
   ]
  },
  {
   "cell_type": "markdown",
   "metadata": {},
   "source": [
    "We saved our clean dataset into this file:\n",
    "\n",
    "df.to_csv('Cleaned_Diabetes.csv')"
   ]
  },
  {
   "cell_type": "markdown",
   "metadata": {},
   "source": [
    "# Visualizing / Getting to Know Our Data"
   ]
  },
  {
   "cell_type": "markdown",
   "metadata": {},
   "source": [
    "How can we secure that there is no data leakage? So as to ensure that our model's performance is reliable, there is a need to prevent any data leakage, or else we will not receive an accurate perception of our model's capabilities; it may perform well on our test, but with a different set, be a lot less successful. To prevent data leakage, we will separate our data into test and train sets, and we will only use the training set for our visualizations and model testing. The test set will be used strictly for our final test.\n",
    "\n",
    "So first and foremost, we split our data into train and test sets, so as to not leak the test set during visualization."
   ]
  },
  {
   "cell_type": "code",
   "execution_count": 18,
   "metadata": {},
   "outputs": [],
   "source": [
    "df2=pd.read_csv('Cleaned_Diabetes.csv',index_col=0)"
   ]
  },
  {
   "cell_type": "code",
   "execution_count": 19,
   "metadata": {},
   "outputs": [],
   "source": [
    "# splitting the data into train & test with random state of 25\n",
    "\n",
    "train_set, test_set = train_test_split(df, test_size=0.2, random_state=25)"
   ]
  },
  {
   "cell_type": "markdown",
   "metadata": {},
   "source": [
    "And then we saved each set to a csv like so:\n",
    "\n",
    "train_set.to_csv('train_set_diabetes.csv')\n",
    "\n",
    "test_set.to_csv('test_set_diabetes.csv')"
   ]
  },
  {
   "cell_type": "code",
   "execution_count": null,
   "metadata": {},
   "outputs": [],
   "source": []
  },
  {
   "cell_type": "markdown",
   "metadata": {},
   "source": [
    "# Testing Different Models"
   ]
  },
  {
   "cell_type": "markdown",
   "metadata": {},
   "source": [
    "Before testing the models, we will prepare our dataset. We have decided to start off with all the features in the dataset, and use feature selection to optimize our models later on if it deems helpful.\n",
    "\n",
    "The step in preparation that is important to us at this stage is to handle our categorical features. We will create dummy variables via the get_dummies function: this will create boolean features (values 0 or 1) per category in the categorical features.\n",
    "\n",
    "Now, first and foremost, we will split our dataset into train and test."
   ]
  },
  {
   "cell_type": "code",
   "execution_count": 20,
   "metadata": {},
   "outputs": [],
   "source": [
    "df=pd.read_csv('Cleaned_Diabetes.csv',index_col=0)"
   ]
  },
  {
   "cell_type": "code",
   "execution_count": 21,
   "metadata": {},
   "outputs": [
    {
     "data": {
      "text/html": [
       "<div>\n",
       "<style scoped>\n",
       "    .dataframe tbody tr th:only-of-type {\n",
       "        vertical-align: middle;\n",
       "    }\n",
       "\n",
       "    .dataframe tbody tr th {\n",
       "        vertical-align: top;\n",
       "    }\n",
       "\n",
       "    .dataframe thead th {\n",
       "        text-align: right;\n",
       "    }\n",
       "</style>\n",
       "<table border=\"1\" class=\"dataframe\">\n",
       "  <thead>\n",
       "    <tr style=\"text-align: right;\">\n",
       "      <th></th>\n",
       "      <th>Pregnancies</th>\n",
       "      <th>Glucose</th>\n",
       "      <th>BloodPressure</th>\n",
       "      <th>SkinThickness</th>\n",
       "      <th>Insulin</th>\n",
       "      <th>BMI</th>\n",
       "      <th>DiabetesPedigreeFunction</th>\n",
       "      <th>Age</th>\n",
       "      <th>High_BloodPressure</th>\n",
       "      <th>Elderly</th>\n",
       "      <th>Thickness_level</th>\n",
       "      <th>Weight_Healthy</th>\n",
       "      <th>Weight_Obese</th>\n",
       "      <th>Weight_UnderWeight</th>\n",
       "      <th>Glucose_Level_high_glucose_levels</th>\n",
       "      <th>Glucose_Level_low_glucose_levels</th>\n",
       "      <th>Glucose_Level_normal_glucose_levels</th>\n",
       "    </tr>\n",
       "  </thead>\n",
       "  <tbody>\n",
       "    <tr>\n",
       "      <th>118</th>\n",
       "      <td>4</td>\n",
       "      <td>97</td>\n",
       "      <td>60</td>\n",
       "      <td>23</td>\n",
       "      <td>125.0</td>\n",
       "      <td>28.2</td>\n",
       "      <td>0.443</td>\n",
       "      <td>22</td>\n",
       "      <td>0</td>\n",
       "      <td>0</td>\n",
       "      <td>3</td>\n",
       "      <td>1</td>\n",
       "      <td>0</td>\n",
       "      <td>0</td>\n",
       "      <td>0</td>\n",
       "      <td>0</td>\n",
       "      <td>1</td>\n",
       "    </tr>\n",
       "    <tr>\n",
       "      <th>336</th>\n",
       "      <td>0</td>\n",
       "      <td>117</td>\n",
       "      <td>72</td>\n",
       "      <td>32</td>\n",
       "      <td>125.0</td>\n",
       "      <td>33.8</td>\n",
       "      <td>0.932</td>\n",
       "      <td>44</td>\n",
       "      <td>0</td>\n",
       "      <td>0</td>\n",
       "      <td>4</td>\n",
       "      <td>0</td>\n",
       "      <td>1</td>\n",
       "      <td>0</td>\n",
       "      <td>0</td>\n",
       "      <td>0</td>\n",
       "      <td>1</td>\n",
       "    </tr>\n",
       "    <tr>\n",
       "      <th>374</th>\n",
       "      <td>2</td>\n",
       "      <td>122</td>\n",
       "      <td>52</td>\n",
       "      <td>43</td>\n",
       "      <td>158.0</td>\n",
       "      <td>36.2</td>\n",
       "      <td>0.816</td>\n",
       "      <td>28</td>\n",
       "      <td>0</td>\n",
       "      <td>0</td>\n",
       "      <td>5</td>\n",
       "      <td>0</td>\n",
       "      <td>1</td>\n",
       "      <td>0</td>\n",
       "      <td>0</td>\n",
       "      <td>0</td>\n",
       "      <td>1</td>\n",
       "    </tr>\n",
       "    <tr>\n",
       "      <th>518</th>\n",
       "      <td>13</td>\n",
       "      <td>76</td>\n",
       "      <td>60</td>\n",
       "      <td>32</td>\n",
       "      <td>125.0</td>\n",
       "      <td>32.8</td>\n",
       "      <td>0.180</td>\n",
       "      <td>41</td>\n",
       "      <td>0</td>\n",
       "      <td>0</td>\n",
       "      <td>4</td>\n",
       "      <td>0</td>\n",
       "      <td>1</td>\n",
       "      <td>0</td>\n",
       "      <td>0</td>\n",
       "      <td>0</td>\n",
       "      <td>1</td>\n",
       "    </tr>\n",
       "    <tr>\n",
       "      <th>716</th>\n",
       "      <td>3</td>\n",
       "      <td>173</td>\n",
       "      <td>78</td>\n",
       "      <td>39</td>\n",
       "      <td>185.0</td>\n",
       "      <td>33.8</td>\n",
       "      <td>0.970</td>\n",
       "      <td>31</td>\n",
       "      <td>0</td>\n",
       "      <td>0</td>\n",
       "      <td>4</td>\n",
       "      <td>0</td>\n",
       "      <td>1</td>\n",
       "      <td>0</td>\n",
       "      <td>1</td>\n",
       "      <td>0</td>\n",
       "      <td>0</td>\n",
       "    </tr>\n",
       "    <tr>\n",
       "      <th>...</th>\n",
       "      <td>...</td>\n",
       "      <td>...</td>\n",
       "      <td>...</td>\n",
       "      <td>...</td>\n",
       "      <td>...</td>\n",
       "      <td>...</td>\n",
       "      <td>...</td>\n",
       "      <td>...</td>\n",
       "      <td>...</td>\n",
       "      <td>...</td>\n",
       "      <td>...</td>\n",
       "      <td>...</td>\n",
       "      <td>...</td>\n",
       "      <td>...</td>\n",
       "      <td>...</td>\n",
       "      <td>...</td>\n",
       "      <td>...</td>\n",
       "    </tr>\n",
       "    <tr>\n",
       "      <th>317</th>\n",
       "      <td>3</td>\n",
       "      <td>182</td>\n",
       "      <td>74</td>\n",
       "      <td>32</td>\n",
       "      <td>125.0</td>\n",
       "      <td>30.5</td>\n",
       "      <td>0.345</td>\n",
       "      <td>29</td>\n",
       "      <td>0</td>\n",
       "      <td>0</td>\n",
       "      <td>4</td>\n",
       "      <td>0</td>\n",
       "      <td>1</td>\n",
       "      <td>0</td>\n",
       "      <td>1</td>\n",
       "      <td>0</td>\n",
       "      <td>0</td>\n",
       "    </tr>\n",
       "    <tr>\n",
       "      <th>143</th>\n",
       "      <td>10</td>\n",
       "      <td>108</td>\n",
       "      <td>66</td>\n",
       "      <td>32</td>\n",
       "      <td>125.0</td>\n",
       "      <td>32.4</td>\n",
       "      <td>0.272</td>\n",
       "      <td>42</td>\n",
       "      <td>0</td>\n",
       "      <td>0</td>\n",
       "      <td>4</td>\n",
       "      <td>0</td>\n",
       "      <td>1</td>\n",
       "      <td>0</td>\n",
       "      <td>0</td>\n",
       "      <td>0</td>\n",
       "      <td>1</td>\n",
       "    </tr>\n",
       "    <tr>\n",
       "      <th>474</th>\n",
       "      <td>4</td>\n",
       "      <td>114</td>\n",
       "      <td>64</td>\n",
       "      <td>32</td>\n",
       "      <td>125.0</td>\n",
       "      <td>28.9</td>\n",
       "      <td>0.126</td>\n",
       "      <td>24</td>\n",
       "      <td>0</td>\n",
       "      <td>0</td>\n",
       "      <td>4</td>\n",
       "      <td>1</td>\n",
       "      <td>0</td>\n",
       "      <td>0</td>\n",
       "      <td>0</td>\n",
       "      <td>0</td>\n",
       "      <td>1</td>\n",
       "    </tr>\n",
       "    <tr>\n",
       "      <th>318</th>\n",
       "      <td>3</td>\n",
       "      <td>115</td>\n",
       "      <td>66</td>\n",
       "      <td>39</td>\n",
       "      <td>140.0</td>\n",
       "      <td>38.1</td>\n",
       "      <td>0.150</td>\n",
       "      <td>28</td>\n",
       "      <td>0</td>\n",
       "      <td>0</td>\n",
       "      <td>4</td>\n",
       "      <td>0</td>\n",
       "      <td>1</td>\n",
       "      <td>0</td>\n",
       "      <td>0</td>\n",
       "      <td>0</td>\n",
       "      <td>1</td>\n",
       "    </tr>\n",
       "    <tr>\n",
       "      <th>132</th>\n",
       "      <td>3</td>\n",
       "      <td>170</td>\n",
       "      <td>64</td>\n",
       "      <td>37</td>\n",
       "      <td>225.0</td>\n",
       "      <td>34.5</td>\n",
       "      <td>0.356</td>\n",
       "      <td>30</td>\n",
       "      <td>0</td>\n",
       "      <td>0</td>\n",
       "      <td>4</td>\n",
       "      <td>0</td>\n",
       "      <td>1</td>\n",
       "      <td>0</td>\n",
       "      <td>1</td>\n",
       "      <td>0</td>\n",
       "      <td>0</td>\n",
       "    </tr>\n",
       "  </tbody>\n",
       "</table>\n",
       "<p>614 rows × 17 columns</p>\n",
       "</div>"
      ],
      "text/plain": [
       "     Pregnancies  Glucose  BloodPressure  SkinThickness  Insulin   BMI  \\\n",
       "118            4       97             60             23    125.0  28.2   \n",
       "336            0      117             72             32    125.0  33.8   \n",
       "374            2      122             52             43    158.0  36.2   \n",
       "518           13       76             60             32    125.0  32.8   \n",
       "716            3      173             78             39    185.0  33.8   \n",
       "..           ...      ...            ...            ...      ...   ...   \n",
       "317            3      182             74             32    125.0  30.5   \n",
       "143           10      108             66             32    125.0  32.4   \n",
       "474            4      114             64             32    125.0  28.9   \n",
       "318            3      115             66             39    140.0  38.1   \n",
       "132            3      170             64             37    225.0  34.5   \n",
       "\n",
       "     DiabetesPedigreeFunction  Age  High_BloodPressure  Elderly  \\\n",
       "118                     0.443   22                   0        0   \n",
       "336                     0.932   44                   0        0   \n",
       "374                     0.816   28                   0        0   \n",
       "518                     0.180   41                   0        0   \n",
       "716                     0.970   31                   0        0   \n",
       "..                        ...  ...                 ...      ...   \n",
       "317                     0.345   29                   0        0   \n",
       "143                     0.272   42                   0        0   \n",
       "474                     0.126   24                   0        0   \n",
       "318                     0.150   28                   0        0   \n",
       "132                     0.356   30                   0        0   \n",
       "\n",
       "     Thickness_level  Weight_Healthy  Weight_Obese  Weight_UnderWeight  \\\n",
       "118                3               1             0                   0   \n",
       "336                4               0             1                   0   \n",
       "374                5               0             1                   0   \n",
       "518                4               0             1                   0   \n",
       "716                4               0             1                   0   \n",
       "..               ...             ...           ...                 ...   \n",
       "317                4               0             1                   0   \n",
       "143                4               0             1                   0   \n",
       "474                4               1             0                   0   \n",
       "318                4               0             1                   0   \n",
       "132                4               0             1                   0   \n",
       "\n",
       "     Glucose_Level_high_glucose_levels  Glucose_Level_low_glucose_levels  \\\n",
       "118                                  0                                 0   \n",
       "336                                  0                                 0   \n",
       "374                                  0                                 0   \n",
       "518                                  0                                 0   \n",
       "716                                  1                                 0   \n",
       "..                                 ...                               ...   \n",
       "317                                  1                                 0   \n",
       "143                                  0                                 0   \n",
       "474                                  0                                 0   \n",
       "318                                  0                                 0   \n",
       "132                                  1                                 0   \n",
       "\n",
       "     Glucose_Level_normal_glucose_levels  \n",
       "118                                    1  \n",
       "336                                    1  \n",
       "374                                    1  \n",
       "518                                    1  \n",
       "716                                    0  \n",
       "..                                   ...  \n",
       "317                                    0  \n",
       "143                                    1  \n",
       "474                                    1  \n",
       "318                                    1  \n",
       "132                                    0  \n",
       "\n",
       "[614 rows x 17 columns]"
      ]
     },
     "execution_count": 21,
     "metadata": {},
     "output_type": "execute_result"
    }
   ],
   "source": [
    "# set aside numerical comlumns, because they may be of later use\n",
    "\n",
    "numerical_columns = ['Pregnancies', 'Glucose', 'BloodPressure', 'SkinThickness', 'Insulin',\n",
    "       'BMI', 'DiabetesPedigreeFunction', 'Age',\n",
    "       'High_BloodPressure',\n",
    "       'Thickness_level']\n",
    "\n",
    "# use the 'get dummies' function\n",
    "\n",
    "df_n = pd.get_dummies(df)\n",
    "\n",
    "X = df_n.drop(['Outcome'], axis=1)\n",
    "y = df_n['Outcome'].values\n",
    "\n",
    "\n",
    "X_train, X_test, y_train, y_test = train_test_split(X, y, test_size=0.2, random_state=25)\n",
    "\n",
    "X_train"
   ]
  },
  {
   "cell_type": "markdown",
   "metadata": {},
   "source": [
    "Now, due to the nature of the testing process, we will need to create another train-test split with the training set."
   ]
  },
  {
   "cell_type": "code",
   "execution_count": 22,
   "metadata": {},
   "outputs": [],
   "source": [
    "X_train2, X_test2, y_train2, y_test2 = train_test_split(X_train,y_train, test_size=0.2, random_state=25)"
   ]
  },
  {
   "cell_type": "markdown",
   "metadata": {},
   "source": [
    "Now we will create another version of the dataset, this time Standarized, and we will see if the scaled version is improving our models."
   ]
  },
  {
   "cell_type": "code",
   "execution_count": 23,
   "metadata": {},
   "outputs": [],
   "source": [
    "standard = StandardScaler()\n",
    "\n",
    "X_test_stand = X_test.copy()\n",
    "X_train_stand = X_train.copy()\n",
    "y_train_stand = y_train.copy()\n",
    "y_test_stand = y_test.copy()\n",
    "\n",
    "X_test2_stand = X_test2.copy()\n",
    "X_train2_stand = X_train2.copy()\n",
    "y_train2_stand = y_train2.copy()\n",
    "y_test2_stand = y_test2.copy()\n",
    "\n",
    "\n",
    "X_train_stand[numerical_columns] = standard.fit_transform(X_train_stand[numerical_columns])\n",
    "X_test_stand[numerical_columns] = standard.transform(X_test_stand[numerical_columns])\n",
    "\n",
    "X_train2_stand[numerical_columns] = standard.fit_transform(X_train2_stand[numerical_columns])\n",
    "X_test2_stand[numerical_columns] = standard.transform(X_test2_stand[numerical_columns])"
   ]
  },
  {
   "cell_type": "markdown",
   "metadata": {},
   "source": [
    "Now that we have prepared several versions of our dataframe, we will create a dummy model by which to establish a standard for how our models are doing. Indeed, a dummy model refers to a baseline model creates for the purpose of comparison with more complex models. To elaborate, the role of the dummy model is to give us an idea of what 'score' values of a poorly-made model would be; if our models align with these scores, or are worse than these scores, they are doing very poorly.\n",
    "\n",
    "We will be using a Dummy Regressor model with the default settings.\n",
    "\n",
    "It is important to note that we will also be using the following metric tools for our testing:\n",
    "\n",
    "- Recall/Sensitivity: this metric tool is the True Positive Rate, which measures the rate of positive instances that are correctly detected by the classifier. In our project, a high recall means that if someone is diabetic, most chances they will be labeled as diabetic in our model. We place a high importance on this metric tool because our highest priority is to classify diabetic people as diabetic so they may receieve the proper treatment.\n",
    "\n",
    "\n",
    "- AUC of ROC: This score is the area under the curve of the Receiver Operating Characteristic graph, which plots the True Positive Rate against the False Positive Rate. We place a high importance on this metric tool because it gives us another angle on our classification: we may have a reall high recall score but also have a very high false positive rate, which means that our model very easily classifies people as diabetic, but is not effective at accurately classification; thus, the AUC of the ROC curve can tell us whether our model is effective or not.\n",
    "\n",
    "\n",
    "- Precision: this metric tool measures the accuracy of the positive predictions. In our project, a high precision means that most of the time when someone is said to have diabetes, they really have diabetes that means that we are lowering the chance that someone would be falsely labeled as diabetic when they're not. While we do not wish to falsely classify someone as diabetic, we found the recall to be more important for our task, and we expect that our precision will decrease as our recall increases. \n",
    "\n",
    "\n",
    "- F-Score: this metric tool considers both the precision and recall score. We will be using it to see that we are on track in both parameters. Again, this will not be as important of a tool as would the Recall and ROC but we will still want to ensure that we have a good balance of both, despite the higher weight upon the recall. For example, if we have such a high recall that our precision is dangerously low, then our model is not an effective model at classification; it simply very easily classifies instances as diabetic, and that is not what we want.\n",
    "\n",
    "We will first create two functions for displaying the ROC curve and the Confusion Matrix (which compares the predicted values to the targeted values in terms of True/False Positive/Negative) so that we may display them during our testing."
   ]
  },
  {
   "cell_type": "code",
   "execution_count": 24,
   "metadata": {},
   "outputs": [],
   "source": [
    "def confusion_matrix_show(cf_matrix):\n",
    "    group_names = ['True Neg','False Pos','False Neg','True Pos']\n",
    "\n",
    "    group_counts = [\"{0:0.0f}\".format(value) for value in\n",
    "                cf_matrix.flatten()]\n",
    "\n",
    "    group_percentages = [\"{0:.2%}\".format(value) for value in\n",
    "                     cf_matrix.flatten()/np.sum(cf_matrix)]\n",
    "\n",
    "    labels = [f\"{v1}\\n{v2}\\n{v3}\" for v1, v2, v3 in\n",
    "          zip(group_names,group_counts,group_percentages)]\n",
    "\n",
    "    labels = np.asarray(labels).reshape(2,2)\n",
    "\n",
    "    ax = sns.heatmap(cf_matrix, annot=labels, fmt='', cmap='Blues')\n",
    "\n",
    "    ax.set_title('Model Confusion Matrix\\n\\n');\n",
    "    ax.set_xlabel('\\nPredictions')\n",
    "    ax.set_ylabel('Actual');\n",
    "\n",
    "    ## Ticket labels - List must be in alphabetical order\n",
    "    ax.xaxis.set_ticklabels(['False','True'])\n",
    "    ax.yaxis.set_ticklabels(['False','True'])\n",
    "    \n",
    "    \n",
    "    ## Display the visualization of the Confusion Matrix.\n",
    "    plt.show()\n",
    "    \n",
    "def roc_show(y_test,y_predict):\n",
    "    plt.figure(dpi=100)\n",
    "    fpr, tpr, thresholds = roc_curve(y_test, y_predict)\n",
    "    plt.plot(fpr,tpr,label = \"%.2f\" %sklearn.metrics.roc_auc_score(y_test,y_predict))\n",
    "    plt.plot([0, 1], [0, 1], color='crimson', linestyle='--')\n",
    "    plt.legend(loc = 'lower right')\n",
    "    plt.xlim([0.0, 1.0])\n",
    "    plt.ylim([0.0, 1.0])\n",
    "    plt.title('ROC Curve for Diabetes for Model')\n",
    "    plt.xlabel('False Positive Rate')\n",
    "    plt.ylabel('True Positive Rate')\n",
    "    plt.grid(True)"
   ]
  },
  {
   "cell_type": "markdown",
   "metadata": {},
   "source": [
    "Now let's see the performance of our Dummy Model."
   ]
  },
  {
   "cell_type": "code",
   "execution_count": 36,
   "metadata": {},
   "outputs": [
    {
     "data": {
      "image/png": "[encoded data removed]",
      "text/plain": [
       "<Figure size 432x288 with 2 Axes>"
      ]
     },
     "metadata": {
      "needs_background": "light"
     },
     "output_type": "display_data"
    },
    {
     "name": "stdout",
     "output_type": "stream",
     "text": [
      "Precision: 0.0\n",
      "Recall: 0.0\n",
      "F1 Score: 0.0\n",
      "Accuracy:0.6465891062929666\n"
     ]
    },
    {
     "name": "stderr",
     "output_type": "stream",
     "text": [
      "C:\\Users\\14122\\anaconda3\\lib\\site-packages\\sklearn\\metrics\\_classification.py:1221: UndefinedMetricWarning: Precision is ill-defined and being set to 0.0 due to no predicted samples. Use `zero_division` parameter to control this behavior.\n",
      "  _warn_prf(average, modifier, msg_start, len(result))\n"
     ]
    },
    {
     "data": {
      "image/png": "[encoded data removed]",
      "text/plain": [
       "<Figure size 600x400 with 1 Axes>"
      ]
     },
     "metadata": {
      "needs_background": "light"
     },
     "output_type": "display_data"
    }
   ],
   "source": [
    "dummy_model = DummyClassifier(strategy=\"most_frequent\")\n",
    "\n",
    "dummy_model.fit(X_train, y_train)\n",
    "\n",
    "y_predict = dummy_model.predict(X_test)\n",
    "\n",
    "confusion_matrix_show(confusion_matrix(y_test, y_predict))\n",
    "\n",
    "y_train_pred = cross_val_predict(dummy_model, X_train, y_train, cv=10)\n",
    "\n",
    "accuracy = np.mean(cross_val_score(dummy_model, X_train, y_train, scoring='accuracy', cv=10))\n",
    "\n",
    "f1 = np.mean(cross_val_score(dummy_model, X_train, y_train, scoring='f1', cv=10))\n",
    "\n",
    "precision = precision_score(y_train, y_train_pred)\n",
    "\n",
    "recall = recall_score(y_train, y_train_pred)\n",
    "\n",
    "print(f\"Precision: {precision}\")\n",
    "print(f\"Recall: {recall}\")\n",
    "print(f\"F1 Score: {f1}\")\n",
    "print(f\"Accuracy:{accuracy}\")\n",
    "\n",
    "\n",
    "plt.figure(dpi=100)\n",
    "fpr, tpr, thresholds = roc_curve(y_test, y_predict)\n",
    "plt.plot(fpr,tpr,label = \"%.2f\" %sklearn.metrics.roc_auc_score(y_test,y_predict))\n",
    "plt.legend(loc = 'lower right')\n",
    "plt.xlim([0.0, 1.0])\n",
    "plt.ylim([0.0, 1.0])\n",
    "plt.title('ROC Curve for Diabetes Dummy Model')\n",
    "plt.xlabel('False Positive Rate')\n",
    "plt.ylabel('True Positive Rate')\n",
    "plt.grid(True)"
   ]
  },
  {
   "cell_type": "markdown",
   "metadata": {},
   "source": [
    "Since our most frequently occuring instance is no diabetes, our dummy model returns absolutely no positive values.\n",
    "As we can see, that would give us a 0 for precision as well as recall, but it returns a 65% accuracy rate as well as a ROC score of 0.5. It's important that we note these things: a ROC score of 0.5 is a very poor score. The seemingly high accuracy score reveals that accuracy is not a good metric tool for our classification task, so we will disregard it completely and stick with the above mentioned metric tools."
   ]
  },
  {
   "cell_type": "markdown",
   "metadata": {},
   "source": [
    "# K Nearest Neighbour Model"
   ]
  },
  {
   "cell_type": "markdown",
   "metadata": {},
   "source": [
    "Let's take a look at the most base-level KNN Model, to see our improvement."
   ]
  },
  {
   "cell_type": "code",
   "execution_count": 25,
   "metadata": {},
   "outputs": [
    {
     "data": {
      "image/png": "[encoded data removed]",
      "text/plain": [
       "<Figure size 432x288 with 2 Axes>"
      ]
     },
     "metadata": {
      "needs_background": "light"
     },
     "output_type": "display_data"
    },
    {
     "data": {
      "text/html": [
       "<div>\n",
       "<style scoped>\n",
       "    .dataframe tbody tr th:only-of-type {\n",
       "        vertical-align: middle;\n",
       "    }\n",
       "\n",
       "    .dataframe tbody tr th {\n",
       "        vertical-align: top;\n",
       "    }\n",
       "\n",
       "    .dataframe thead th {\n",
       "        text-align: right;\n",
       "    }\n",
       "</style>\n",
       "<table border=\"1\" class=\"dataframe\">\n",
       "  <thead>\n",
       "    <tr style=\"text-align: right;\">\n",
       "      <th></th>\n",
       "      <th>ROC_AUC</th>\n",
       "      <th>Recall</th>\n",
       "      <th>Precision</th>\n",
       "      <th>F1</th>\n",
       "    </tr>\n",
       "  </thead>\n",
       "  <tbody>\n",
       "    <tr>\n",
       "      <th>0</th>\n",
       "      <td>0.647808</td>\n",
       "      <td>0.46</td>\n",
       "      <td>0.657143</td>\n",
       "      <td>0.541176</td>\n",
       "    </tr>\n",
       "  </tbody>\n",
       "</table>\n",
       "</div>"
      ],
      "text/plain": [
       "    ROC_AUC  Recall  Precision        F1\n",
       "0  0.647808    0.46   0.657143  0.541176"
      ]
     },
     "execution_count": 25,
     "metadata": {},
     "output_type": "execute_result"
    },
    {
     "data": {
      "image/png": "[encoded data removed]",
      "text/plain": [
       "<Figure size 600x400 with 1 Axes>"
      ]
     },
     "metadata": {
      "needs_background": "light"
     },
     "output_type": "display_data"
    }
   ],
   "source": [
    "# the most basic knn model\n",
    "\n",
    "recall_1=[]\n",
    "precision_1=[]\n",
    "roc_1=[]\n",
    "f1_1=[]\n",
    "\n",
    "knn = KNeighborsClassifier()\n",
    "\n",
    "knn.fit(X_train2,y_train2)\n",
    "\n",
    "y_pred = knn.predict(X_test2)\n",
    "\n",
    "recall_1.append(recall_score(y_test2, y_pred)) \n",
    "\n",
    "precision_1.append(precision_score(y_test2, y_pred)) \n",
    "\n",
    "roc_1.append(sklearn.metrics.roc_auc_score(y_test2,y_pred))\n",
    "\n",
    "f1_1.append(fbeta_score(y_test2, y_pred, beta=1))\n",
    "\n",
    "\n",
    "\n",
    "d_1 = {'ROC_AUC': roc_1, 'Recall': recall_1,'Precision':precision_1,'F1':f1_1}\n",
    "\n",
    "dfd1 = pd.DataFrame(data=d_1)\n",
    "\n",
    "confusion_matrix_show(confusion_matrix(y_test2, y_pred))\n",
    "roc_show(y_test2,y_pred)\n",
    "\n",
    "dfd1"
   ]
  },
  {
   "cell_type": "markdown",
   "metadata": {},
   "source": [
    "Let's see how we can improve upon our model. Let's start with finding the best k"
   ]
  },
  {
   "cell_type": "code",
   "execution_count": 26,
   "metadata": {},
   "outputs": [
    {
     "data": {
      "text/html": [
       "<div>\n",
       "<style scoped>\n",
       "    .dataframe tbody tr th:only-of-type {\n",
       "        vertical-align: middle;\n",
       "    }\n",
       "\n",
       "    .dataframe tbody tr th {\n",
       "        vertical-align: top;\n",
       "    }\n",
       "\n",
       "    .dataframe thead th {\n",
       "        text-align: right;\n",
       "    }\n",
       "</style>\n",
       "<table border=\"1\" class=\"dataframe\">\n",
       "  <thead>\n",
       "    <tr style=\"text-align: right;\">\n",
       "      <th></th>\n",
       "      <th>K</th>\n",
       "      <th>ROC_AUC</th>\n",
       "      <th>Recall</th>\n",
       "      <th>Precision</th>\n",
       "      <th>F-Beta</th>\n",
       "    </tr>\n",
       "  </thead>\n",
       "  <tbody>\n",
       "    <tr>\n",
       "      <th>0</th>\n",
       "      <td>3</td>\n",
       "      <td>0.690959</td>\n",
       "      <td>0.56</td>\n",
       "      <td>0.682927</td>\n",
       "      <td>0.615385</td>\n",
       "    </tr>\n",
       "    <tr>\n",
       "      <th>1</th>\n",
       "      <td>7</td>\n",
       "      <td>0.687808</td>\n",
       "      <td>0.54</td>\n",
       "      <td>0.692308</td>\n",
       "      <td>0.606742</td>\n",
       "    </tr>\n",
       "    <tr>\n",
       "      <th>2</th>\n",
       "      <td>11</td>\n",
       "      <td>0.671507</td>\n",
       "      <td>0.48</td>\n",
       "      <td>0.705882</td>\n",
       "      <td>0.571429</td>\n",
       "    </tr>\n",
       "    <tr>\n",
       "      <th>3</th>\n",
       "      <td>19</td>\n",
       "      <td>0.665205</td>\n",
       "      <td>0.44</td>\n",
       "      <td>0.733333</td>\n",
       "      <td>0.550000</td>\n",
       "    </tr>\n",
       "    <tr>\n",
       "      <th>4</th>\n",
       "      <td>9</td>\n",
       "      <td>0.664658</td>\n",
       "      <td>0.48</td>\n",
       "      <td>0.685714</td>\n",
       "      <td>0.564706</td>\n",
       "    </tr>\n",
       "    <tr>\n",
       "      <th>5</th>\n",
       "      <td>15</td>\n",
       "      <td>0.661507</td>\n",
       "      <td>0.46</td>\n",
       "      <td>0.696970</td>\n",
       "      <td>0.554217</td>\n",
       "    </tr>\n",
       "    <tr>\n",
       "      <th>6</th>\n",
       "      <td>22</td>\n",
       "      <td>0.658904</td>\n",
       "      <td>0.40</td>\n",
       "      <td>0.769231</td>\n",
       "      <td>0.526316</td>\n",
       "    </tr>\n",
       "    <tr>\n",
       "      <th>7</th>\n",
       "      <td>17</td>\n",
       "      <td>0.658356</td>\n",
       "      <td>0.44</td>\n",
       "      <td>0.709677</td>\n",
       "      <td>0.543210</td>\n",
       "    </tr>\n",
       "    <tr>\n",
       "      <th>8</th>\n",
       "      <td>8</td>\n",
       "      <td>0.658356</td>\n",
       "      <td>0.44</td>\n",
       "      <td>0.709677</td>\n",
       "      <td>0.543210</td>\n",
       "    </tr>\n",
       "    <tr>\n",
       "      <th>9</th>\n",
       "      <td>10</td>\n",
       "      <td>0.655205</td>\n",
       "      <td>0.42</td>\n",
       "      <td>0.724138</td>\n",
       "      <td>0.531646</td>\n",
       "    </tr>\n",
       "  </tbody>\n",
       "</table>\n",
       "</div>"
      ],
      "text/plain": [
       "    K   ROC_AUC  Recall  Precision    F-Beta\n",
       "0   3  0.690959    0.56   0.682927  0.615385\n",
       "1   7  0.687808    0.54   0.692308  0.606742\n",
       "2  11  0.671507    0.48   0.705882  0.571429\n",
       "3  19  0.665205    0.44   0.733333  0.550000\n",
       "4   9  0.664658    0.48   0.685714  0.564706\n",
       "5  15  0.661507    0.46   0.696970  0.554217\n",
       "6  22  0.658904    0.40   0.769231  0.526316\n",
       "7  17  0.658356    0.44   0.709677  0.543210\n",
       "8   8  0.658356    0.44   0.709677  0.543210\n",
       "9  10  0.655205    0.42   0.724138  0.531646"
      ]
     },
     "execution_count": 26,
     "metadata": {},
     "output_type": "execute_result"
    }
   ],
   "source": [
    "table = {}\n",
    "index = []\n",
    "AUC =[]\n",
    "recall=[]\n",
    "precision=[]\n",
    "fbeta=[]\n",
    "\n",
    "for  i in range(1,100):\n",
    "    \n",
    "    knn = KNeighborsClassifier(n_neighbors=i)\n",
    "    \n",
    "    knn.fit(X_train2,y_train2)\n",
    "    \n",
    "    y_pred = knn.predict(X_test2)\n",
    "    \n",
    "    index.append(i)\n",
    "    \n",
    "    AUC.append(sklearn.metrics.roc_auc_score(y_test2,y_pred))\n",
    "    \n",
    "    recall.append(recall_score(y_test2, y_pred))\n",
    "    \n",
    "    precision.append(precision_score(y_test2, y_pred))\n",
    "    \n",
    "    fbeta.append(fbeta_score(y_test2, y_pred, beta=1))\n",
    "    \n",
    "    table.update({'K':index})\n",
    "    table.update({'ROC_AUC':AUC})\n",
    "    table.update({'Recall': recall})\n",
    "    table.update({'Precision': precision})\n",
    "    table.update({'F-Beta': fbeta})\n",
    "    \n",
    "df = pd.DataFrame(table)\n",
    "df.sort_values('ROC_AUC',ascending=False,inplace=True,ignore_index=True)\n",
    "df.head(10)"
   ]
  },
  {
   "cell_type": "markdown",
   "metadata": {},
   "source": [
    "It appears that our best K currently, based on our ROC score, is 3. However, with cross validation we may receieve a different K, and that one we can be more sure of. Let's try it."
   ]
  },
  {
   "cell_type": "code",
   "execution_count": 27,
   "metadata": {},
   "outputs": [
    {
     "data": {
      "text/html": [
       "<div>\n",
       "<style scoped>\n",
       "    .dataframe tbody tr th:only-of-type {\n",
       "        vertical-align: middle;\n",
       "    }\n",
       "\n",
       "    .dataframe tbody tr th {\n",
       "        vertical-align: top;\n",
       "    }\n",
       "\n",
       "    .dataframe thead th {\n",
       "        text-align: right;\n",
       "    }\n",
       "</style>\n",
       "<table border=\"1\" class=\"dataframe\">\n",
       "  <thead>\n",
       "    <tr style=\"text-align: right;\">\n",
       "      <th></th>\n",
       "      <th>K</th>\n",
       "      <th>Recall</th>\n",
       "      <th>ROC_AUC</th>\n",
       "      <th>F1</th>\n",
       "    </tr>\n",
       "  </thead>\n",
       "  <tbody>\n",
       "    <tr>\n",
       "      <th>0</th>\n",
       "      <td>7</td>\n",
       "      <td>0.570996</td>\n",
       "      <td>0.775141</td>\n",
       "      <td>0.607985</td>\n",
       "    </tr>\n",
       "    <tr>\n",
       "      <th>1</th>\n",
       "      <td>9</td>\n",
       "      <td>0.561688</td>\n",
       "      <td>0.790134</td>\n",
       "      <td>0.598629</td>\n",
       "    </tr>\n",
       "    <tr>\n",
       "      <th>2</th>\n",
       "      <td>3</td>\n",
       "      <td>0.558009</td>\n",
       "      <td>0.733410</td>\n",
       "      <td>0.564841</td>\n",
       "    </tr>\n",
       "    <tr>\n",
       "      <th>3</th>\n",
       "      <td>1</td>\n",
       "      <td>0.548918</td>\n",
       "      <td>0.647247</td>\n",
       "      <td>0.542004</td>\n",
       "    </tr>\n",
       "    <tr>\n",
       "      <th>4</th>\n",
       "      <td>11</td>\n",
       "      <td>0.543290</td>\n",
       "      <td>0.796380</td>\n",
       "      <td>0.588827</td>\n",
       "    </tr>\n",
       "    <tr>\n",
       "      <th>5</th>\n",
       "      <td>25</td>\n",
       "      <td>0.529654</td>\n",
       "      <td>0.820126</td>\n",
       "      <td>0.607001</td>\n",
       "    </tr>\n",
       "    <tr>\n",
       "      <th>6</th>\n",
       "      <td>5</td>\n",
       "      <td>0.529437</td>\n",
       "      <td>0.758941</td>\n",
       "      <td>0.567925</td>\n",
       "    </tr>\n",
       "    <tr>\n",
       "      <th>7</th>\n",
       "      <td>15</td>\n",
       "      <td>0.529221</td>\n",
       "      <td>0.815066</td>\n",
       "      <td>0.592980</td>\n",
       "    </tr>\n",
       "    <tr>\n",
       "      <th>8</th>\n",
       "      <td>13</td>\n",
       "      <td>0.524892</td>\n",
       "      <td>0.800526</td>\n",
       "      <td>0.585446</td>\n",
       "    </tr>\n",
       "    <tr>\n",
       "      <th>9</th>\n",
       "      <td>21</td>\n",
       "      <td>0.524459</td>\n",
       "      <td>0.816729</td>\n",
       "      <td>0.592136</td>\n",
       "    </tr>\n",
       "  </tbody>\n",
       "</table>\n",
       "</div>"
      ],
      "text/plain": [
       "    K    Recall   ROC_AUC        F1\n",
       "0   7  0.570996  0.775141  0.607985\n",
       "1   9  0.561688  0.790134  0.598629\n",
       "2   3  0.558009  0.733410  0.564841\n",
       "3   1  0.548918  0.647247  0.542004\n",
       "4  11  0.543290  0.796380  0.588827\n",
       "5  25  0.529654  0.820126  0.607001\n",
       "6   5  0.529437  0.758941  0.567925\n",
       "7  15  0.529221  0.815066  0.592980\n",
       "8  13  0.524892  0.800526  0.585446\n",
       "9  21  0.524459  0.816729  0.592136"
      ]
     },
     "execution_count": 27,
     "metadata": {},
     "output_type": "execute_result"
    }
   ],
   "source": [
    "recall = []\n",
    "ind=[]\n",
    "roc=[]\n",
    "f1=[]\n",
    "\n",
    "for  i in range(1,100):\n",
    "    knn = KNeighborsClassifier(n_neighbors=i)\n",
    "    score=cross_val_score(knn,X_train_stand,y_train_stand,cv=10,scoring='recall')\n",
    "    score2=cross_val_score(knn,X_train_stand,y_train_stand,cv=10,scoring='roc_auc')\n",
    "    score3=cross_val_score(knn,X_train_stand,y_train_stand,cv=10,scoring='f1')\n",
    "    recall.append(score.mean())\n",
    "    roc.append(score2.mean())\n",
    "    f1.append(score3.mean())\n",
    "    ind.append(i)\n",
    "d = {'K': ind, 'Recall': recall,'ROC_AUC': roc,'F1':f1}\n",
    "dfd = pd.DataFrame(data=d)\n",
    "dfd.sort_values('Recall',ascending=False,inplace=True,ignore_index=True)\n",
    "dfd.head(10)"
   ]
  },
  {
   "cell_type": "markdown",
   "metadata": {},
   "source": [
    "For the purpose of our model, the current best k for knn is 7, to get the highest possible Recall. However, that K is the best K specifically for the current features we have. \n",
    "Through feature selection, we may be able to tune our model even further, and in that case, we will need a new K that will fit the new features. So we will have to repeat this process once we select our features. \n",
    "\n",
    "To select our features, we will use the sklearn function Select K Best for classification, which returns the best 'k' number of features in our dataset. We will further tweak this by creating another function to find the best 'k' to set the number of features. "
   ]
  },
  {
   "cell_type": "code",
   "execution_count": 28,
   "metadata": {},
   "outputs": [],
   "source": [
    "# feature selection\n",
    "def select_features(X_train, y_train, X_test,i):\n",
    "    \n",
    "    # configure to select a subset of features\n",
    "    fs = SelectKBest(score_func=f_classif, k=i)\n",
    "    \n",
    "    # learn relationship from training data\n",
    "    fs.fit(X_train, y_train)\n",
    "    \n",
    "    # transform train input data\n",
    "    X_train_fs = fs.transform(X_train)\n",
    "    \n",
    "    # transform test input data\n",
    "    X_test_fs = fs.transform(X_test)\n",
    "        \n",
    "    return X_train_fs, X_test_fs, fs\n",
    "\n",
    "def find_best_score(arr,r):\n",
    "    maxn=-100\n",
    "    maxI=0\n",
    "    for i in range(r):\n",
    "        if(maxn<arr[i]):\n",
    "            maxn=arr[i]\n",
    "            maxI=i+1\n",
    "    return maxn\n",
    "\n",
    "def find_best(arr,r):\n",
    "    maxn=-100\n",
    "    maxI=0\n",
    "    for i in range(r):\n",
    "        if(maxn<arr[i]):\n",
    "            maxn=arr[i]\n",
    "            maxI=i+1\n",
    "    return maxI"
   ]
  },
  {
   "cell_type": "code",
   "execution_count": 29,
   "metadata": {},
   "outputs": [
    {
     "name": "stdout",
     "output_type": "stream",
     "text": [
      "done\n"
     ]
    }
   ],
   "source": [
    "modelIk=[]\n",
    "modelIk.append(0)\n",
    "modelIndex=range(0,17)\n",
    "for i in range(1,17):\n",
    "    X_train_fs, X_test_fs, fs = select_features(X_train_stand, y_train, X_test,i)\n",
    "    modelI=[]\n",
    "    \n",
    "    for j in range(1,100):\n",
    "        knn = KNeighborsClassifier(n_neighbors=j)\n",
    "        knn.fit(X_train_fs,y_train)\n",
    "\n",
    "        model_improved = np.mean(cross_val_score(knn, X_train_fs, y_train, scoring='recall', cv=10))\n",
    "        modelI.append(model_improved)\n",
    "        #np.seterr(invalid='ignore')\n",
    "    modelIk.append(find_best_score(modelI,99))\n",
    "\n",
    "print(\"done\")"
   ]
  },
  {
   "cell_type": "code",
   "execution_count": 30,
   "metadata": {},
   "outputs": [
    {
     "data": {
      "text/html": [
       "<div>\n",
       "<style scoped>\n",
       "    .dataframe tbody tr th:only-of-type {\n",
       "        vertical-align: middle;\n",
       "    }\n",
       "\n",
       "    .dataframe tbody tr th {\n",
       "        vertical-align: top;\n",
       "    }\n",
       "\n",
       "    .dataframe thead th {\n",
       "        text-align: right;\n",
       "    }\n",
       "</style>\n",
       "<table border=\"1\" class=\"dataframe\">\n",
       "  <thead>\n",
       "    <tr style=\"text-align: right;\">\n",
       "      <th></th>\n",
       "      <th>K</th>\n",
       "      <th>Recall</th>\n",
       "    </tr>\n",
       "  </thead>\n",
       "  <tbody>\n",
       "    <tr>\n",
       "      <th>0</th>\n",
       "      <td>8</td>\n",
       "      <td>0.654762</td>\n",
       "    </tr>\n",
       "    <tr>\n",
       "      <th>1</th>\n",
       "      <td>7</td>\n",
       "      <td>0.644372</td>\n",
       "    </tr>\n",
       "    <tr>\n",
       "      <th>2</th>\n",
       "      <td>10</td>\n",
       "      <td>0.640260</td>\n",
       "    </tr>\n",
       "    <tr>\n",
       "      <th>3</th>\n",
       "      <td>9</td>\n",
       "      <td>0.635498</td>\n",
       "    </tr>\n",
       "    <tr>\n",
       "      <th>4</th>\n",
       "      <td>11</td>\n",
       "      <td>0.616883</td>\n",
       "    </tr>\n",
       "    <tr>\n",
       "      <th>5</th>\n",
       "      <td>14</td>\n",
       "      <td>0.593939</td>\n",
       "    </tr>\n",
       "    <tr>\n",
       "      <th>6</th>\n",
       "      <td>13</td>\n",
       "      <td>0.593939</td>\n",
       "    </tr>\n",
       "    <tr>\n",
       "      <th>7</th>\n",
       "      <td>5</td>\n",
       "      <td>0.589610</td>\n",
       "    </tr>\n",
       "    <tr>\n",
       "      <th>8</th>\n",
       "      <td>6</td>\n",
       "      <td>0.589610</td>\n",
       "    </tr>\n",
       "    <tr>\n",
       "      <th>9</th>\n",
       "      <td>4</td>\n",
       "      <td>0.580952</td>\n",
       "    </tr>\n",
       "  </tbody>\n",
       "</table>\n",
       "</div>"
      ],
      "text/plain": [
       "    K    Recall\n",
       "0   8  0.654762\n",
       "1   7  0.644372\n",
       "2  10  0.640260\n",
       "3   9  0.635498\n",
       "4  11  0.616883\n",
       "5  14  0.593939\n",
       "6  13  0.593939\n",
       "7   5  0.589610\n",
       "8   6  0.589610\n",
       "9   4  0.580952"
      ]
     },
     "execution_count": 30,
     "metadata": {},
     "output_type": "execute_result"
    }
   ],
   "source": [
    "dfmake = {'K': modelIndex, 'Recall': modelIk}\n",
    "dfsmall = pd.DataFrame(data=dfmake)\n",
    "dfsmall.sort_values('Recall',ascending=False,inplace=True,ignore_index=True)\n",
    "#dfsmall['score'].sort_values(ascending=False)\n",
    "dfsmall.head(10)"
   ]
  },
  {
   "cell_type": "markdown",
   "metadata": {},
   "source": [
    "As we can see the best amount of features to use for our knn model is 8 features.\n",
    "lets check which features those are."
   ]
  },
  {
   "cell_type": "code",
   "execution_count": 31,
   "metadata": {},
   "outputs": [],
   "source": [
    "X_train_fs, X_test_fs, fs = select_features(X_train_stand, y_train_stand, X_test_stand,8)"
   ]
  },
  {
   "cell_type": "code",
   "execution_count": 32,
   "metadata": {},
   "outputs": [
    {
     "data": {
      "text/plain": [
       "array([False,  True, False, False,  True,  True, False,  True, False,\n",
       "       False, False,  True,  True, False,  True, False,  True])"
      ]
     },
     "execution_count": 32,
     "metadata": {},
     "output_type": "execute_result"
    }
   ],
   "source": [
    "features_list = [['Pregnancies', 'Glucose', 'BloodPressure', 'SkinThickness', 'Insulin',\n",
    "       'BMI', 'DiabetesPedigreeFunction', 'Age', 'High_BloodPressure',\n",
    "       'Elderly', 'Thickness_level', 'Weight_Healthy', 'Weight_Obese',\n",
    "       'Weight_UnderWeight', 'Glucose_Level_high_glucose_levels',\n",
    "       'Glucose_Level_low_glucose_levels',\n",
    "       'Glucose_Level_normal_glucose_levels']]\n",
    "\n",
    "fs.get_support()"
   ]
  },
  {
   "cell_type": "markdown",
   "metadata": {},
   "source": [
    "As we can see the features selected are:\n",
    "    \n",
    "- Glucose\n",
    "- Insulin\n",
    "- BMI\n",
    "- Age\n",
    "- Weight_Healthy\n",
    "- Weight_Obese\n",
    "- Glucose_Level_high\n",
    "- Glucose_Level_normal"
   ]
  },
  {
   "cell_type": "markdown",
   "metadata": {},
   "source": [
    "Now lets see which k is needed to get to the optimal result for our knn models hyper parameter."
   ]
  },
  {
   "cell_type": "code",
   "execution_count": 34,
   "metadata": {},
   "outputs": [
    {
     "data": {
      "text/html": [
       "<div>\n",
       "<style scoped>\n",
       "    .dataframe tbody tr th:only-of-type {\n",
       "        vertical-align: middle;\n",
       "    }\n",
       "\n",
       "    .dataframe tbody tr th {\n",
       "        vertical-align: top;\n",
       "    }\n",
       "\n",
       "    .dataframe thead th {\n",
       "        text-align: right;\n",
       "    }\n",
       "</style>\n",
       "<table border=\"1\" class=\"dataframe\">\n",
       "  <thead>\n",
       "    <tr style=\"text-align: right;\">\n",
       "      <th></th>\n",
       "      <th>K</th>\n",
       "      <th>Recall</th>\n",
       "    </tr>\n",
       "  </thead>\n",
       "  <tbody>\n",
       "    <tr>\n",
       "      <th>0</th>\n",
       "      <td>9</td>\n",
       "      <td>0.654762</td>\n",
       "    </tr>\n",
       "    <tr>\n",
       "      <th>1</th>\n",
       "      <td>11</td>\n",
       "      <td>0.654545</td>\n",
       "    </tr>\n",
       "    <tr>\n",
       "      <th>2</th>\n",
       "      <td>13</td>\n",
       "      <td>0.645238</td>\n",
       "    </tr>\n",
       "    <tr>\n",
       "      <th>3</th>\n",
       "      <td>7</td>\n",
       "      <td>0.645022</td>\n",
       "    </tr>\n",
       "    <tr>\n",
       "      <th>4</th>\n",
       "      <td>5</td>\n",
       "      <td>0.636364</td>\n",
       "    </tr>\n",
       "    <tr>\n",
       "      <th>5</th>\n",
       "      <td>25</td>\n",
       "      <td>0.631169</td>\n",
       "    </tr>\n",
       "    <tr>\n",
       "      <th>6</th>\n",
       "      <td>15</td>\n",
       "      <td>0.626407</td>\n",
       "    </tr>\n",
       "    <tr>\n",
       "      <th>7</th>\n",
       "      <td>27</td>\n",
       "      <td>0.622078</td>\n",
       "    </tr>\n",
       "    <tr>\n",
       "      <th>8</th>\n",
       "      <td>23</td>\n",
       "      <td>0.622078</td>\n",
       "    </tr>\n",
       "    <tr>\n",
       "      <th>9</th>\n",
       "      <td>29</td>\n",
       "      <td>0.617749</td>\n",
       "    </tr>\n",
       "  </tbody>\n",
       "</table>\n",
       "</div>"
      ],
      "text/plain": [
       "    K    Recall\n",
       "0   9  0.654762\n",
       "1  11  0.654545\n",
       "2  13  0.645238\n",
       "3   7  0.645022\n",
       "4   5  0.636364\n",
       "5  25  0.631169\n",
       "6  15  0.626407\n",
       "7  27  0.622078\n",
       "8  23  0.622078\n",
       "9  29  0.617749"
      ]
     },
     "execution_count": 34,
     "metadata": {},
     "output_type": "execute_result"
    }
   ],
   "source": [
    "k2 = []\n",
    "ind=[]\n",
    "ind=range(1,100)\n",
    "\n",
    "for  i in range(1,100):\n",
    "    knn = KNeighborsClassifier(n_neighbors=i)\n",
    "    score=cross_val_score(knn,X_train_fs,y_train_stand,cv=10,scoring='recall')\n",
    "    k2.append(score.mean())\n",
    "d2 = {'K': ind, 'Recall': k2}\n",
    "dfd2 = pd.DataFrame(data=d2)\n",
    "dfd2.sort_values('Recall',ascending=False,inplace=True,ignore_index=True)\n",
    "dfd2.head(10)\n"
   ]
  },
  {
   "cell_type": "markdown",
   "metadata": {},
   "source": [
    "We see here that the k that we need is 9."
   ]
  },
  {
   "cell_type": "markdown",
   "metadata": {},
   "source": [
    "To further optimise our model we need to choose a threshold to control how many false positives and false negatives we get.\n",
    "Our decision on what the threshold should be depends on what you see as more important.For instance for pregnancy tests you'd rather have false positives than false negatives, because the customor would prefer thinking they are pregnant when they aren't than thinking they aren't when they are."
   ]
  },
  {
   "cell_type": "markdown",
   "metadata": {},
   "source": [
    "So lets choose the best threshold for the best results."
   ]
  },
  {
   "cell_type": "code",
   "execution_count": 35,
   "metadata": {},
   "outputs": [],
   "source": [
    "X_train2_fs, X_test2_fs, y_train2, y_test2 = train_test_split(X_train_fs,y_train_stand, test_size=0.2, random_state=25)"
   ]
  },
  {
   "cell_type": "code",
   "execution_count": 37,
   "metadata": {},
   "outputs": [
    {
     "name": "stdout",
     "output_type": "stream",
     "text": [
      "knn train roc-auc: 0.8845826864788942\n",
      "knn test roc-auc: 0.7905479452054794\n",
      "final prints:0.7905479452054794\n",
      "[0.   0.02 0.12 0.22 0.36 0.46 0.64 0.86 0.96 0.98 1.  ]\n",
      "[0.         0.01369863 0.02739726 0.06849315 0.12328767 0.19178082\n",
      " 0.24657534 0.32876712 0.50684932 0.68493151 1.        ]\n",
      "[2.         1.         0.88888889 0.77777778 0.66666667 0.55555556\n",
      " 0.44444444 0.33333333 0.22222222 0.11111111 0.        ]\n",
      "0.6341095890410958\n",
      "Threshold value is: 0.3333333333333333 with score of 0.75977646316045\n"
     ]
    }
   ],
   "source": [
    "knn_v2 = KNeighborsClassifier(n_neighbors=9)\n",
    "\n",
    "knn_v2.fit(X_train2_fs,y_train2)\n",
    "\n",
    "y_scores = knn_v2.predict(X_test2_fs)\n",
    "\n",
    "prodict_prob_train=knn_v2.predict_proba(X_train2_fs)\n",
    "print('knn train roc-auc: {}'.format(roc_auc_score(y_train2,prodict_prob_train[:,1])))\n",
    "\n",
    "prodict_prob_test=knn_v2.predict_proba(X_test2_fs)\n",
    "print('knn test roc-auc: {}'.format(roc_auc_score(y_test2,prodict_prob_test[:,1])))\n",
    "\n",
    "preds=[]\n",
    "preds.append(pd.Series(knn_v2.predict_proba(X_test2_fs)[:,1]))\n",
    "predictions=pd.concat(preds,axis=1)\n",
    "print('final prints:{}'.format(roc_auc_score(y_test2,predictions)))\n",
    "\n",
    "fpr, tpr, thresholds = roc_curve(y_test2, predictions)\n",
    "print(tpr)\n",
    "print(fpr)\n",
    "print(thresholds)\n",
    "print(roc_auc_score(y_test2, y_scores))\n",
    "\n",
    "gmeans = (tpr * (1-fpr))**0.5\n",
    "ix = np.argmax(gmeans)\n",
    "\n",
    "optimal_idx = np.argmax(tpr-fpr)\n",
    "optimal_threshold = thresholds[optimal_idx]\n",
    "print(f\"Threshold value is: {optimal_threshold} with score of {gmeans[optimal_idx]}\" )"
   ]
  },
  {
   "cell_type": "markdown",
   "metadata": {},
   "source": [
    "Now that we found our optimised threshold for our model lets apply it and see our results."
   ]
  },
  {
   "cell_type": "code",
   "execution_count": 38,
   "metadata": {},
   "outputs": [
    {
     "data": {
      "image/png": "[encoded data removed]",
      "text/plain": [
       "<Figure size 432x288 with 2 Axes>"
      ]
     },
     "metadata": {
      "needs_background": "light"
     },
     "output_type": "display_data"
    },
    {
     "data": {
      "text/html": [
       "<div>\n",
       "<style scoped>\n",
       "    .dataframe tbody tr th:only-of-type {\n",
       "        vertical-align: middle;\n",
       "    }\n",
       "\n",
       "    .dataframe tbody tr th {\n",
       "        vertical-align: top;\n",
       "    }\n",
       "\n",
       "    .dataframe thead th {\n",
       "        text-align: right;\n",
       "    }\n",
       "</style>\n",
       "<table border=\"1\" class=\"dataframe\">\n",
       "  <thead>\n",
       "    <tr style=\"text-align: right;\">\n",
       "      <th></th>\n",
       "      <th>ROC_AUC</th>\n",
       "      <th>Recall</th>\n",
       "      <th>Precision</th>\n",
       "      <th>F1</th>\n",
       "    </tr>\n",
       "  </thead>\n",
       "  <tbody>\n",
       "    <tr>\n",
       "      <th>0</th>\n",
       "      <td>0.765616</td>\n",
       "      <td>0.86</td>\n",
       "      <td>0.641791</td>\n",
       "      <td>0.735043</td>\n",
       "    </tr>\n",
       "  </tbody>\n",
       "</table>\n",
       "</div>"
      ],
      "text/plain": [
       "    ROC_AUC  Recall  Precision        F1\n",
       "0  0.765616    0.86   0.641791  0.735043"
      ]
     },
     "execution_count": 38,
     "metadata": {},
     "output_type": "execute_result"
    },
    {
     "data": {
      "image/png": "[encoded data removed]",
      "text/plain": [
       "<Figure size 600x400 with 1 Axes>"
      ]
     },
     "metadata": {
      "needs_background": "light"
     },
     "output_type": "display_data"
    }
   ],
   "source": [
    "# testing the optimized model:\n",
    "recall_opt=[]\n",
    "precision_opt=[]\n",
    "roc_opt=[]\n",
    "f1_opt=[]\n",
    "\n",
    "knn_opt = KNeighborsClassifier(n_neighbors=9)\n",
    "\n",
    "knn_opt.fit(X_train2_fs,y_train2)\n",
    "\n",
    "threshold_knn = optimal_threshold\n",
    "\n",
    "predicted_proba = knn_opt.predict_proba(X_test2_fs)\n",
    "y_pred_opt = (predicted_proba [:,1] >= threshold_knn).astype('int')\n",
    "\n",
    "accuracy = accuracy_score(y_test2,y_pred_opt)\n",
    "\n",
    "\n",
    "\n",
    "#y_pred_opt = knn_opt.predict(X_test2_fs)\n",
    "\n",
    "recall_opt.append(recall_score(y_test2, y_pred_opt)) \n",
    "\n",
    "precision_opt.append(precision_score(y_test2, y_pred_opt)) \n",
    "\n",
    "roc_opt.append(sklearn.metrics.roc_auc_score(y_test2,y_pred_opt))\n",
    "\n",
    "f1_opt.append(fbeta_score(y_test2, y_pred_opt, beta=1))\n",
    "\n",
    "d_opt = {'ROC_AUC': roc_opt, 'Recall': recall_opt,'Precision':precision_opt,'F1':f1_opt}\n",
    "\n",
    "df_opt = pd.DataFrame(data=d_opt)\n",
    "\n",
    "confusion_matrix_show(confusion_matrix(y_test2, y_pred_opt))\n",
    "roc_show(y_test2,y_pred_opt)\n",
    "\n",
    "df_opt"
   ]
  },
  {
   "cell_type": "markdown",
   "metadata": {},
   "source": [
    "As we can see our results are significantly better after applying our better threshold."
   ]
  },
  {
   "cell_type": "markdown",
   "metadata": {},
   "source": [
    "# Random Forest Classifier"
   ]
  },
  {
   "cell_type": "markdown",
   "metadata": {},
   "source": [
    "Let's take a look at the most base-level RFC Model,so we can see our improvement later."
   ]
  },
  {
   "cell_type": "code",
   "execution_count": 39,
   "metadata": {},
   "outputs": [
    {
     "data": {
      "image/png": "[encoded data removed]",
      "text/plain": [
       "<Figure size 432x288 with 2 Axes>"
      ]
     },
     "metadata": {
      "needs_background": "light"
     },
     "output_type": "display_data"
    },
    {
     "data": {
      "text/html": [
       "<div>\n",
       "<style scoped>\n",
       "    .dataframe tbody tr th:only-of-type {\n",
       "        vertical-align: middle;\n",
       "    }\n",
       "\n",
       "    .dataframe tbody tr th {\n",
       "        vertical-align: top;\n",
       "    }\n",
       "\n",
       "    .dataframe thead th {\n",
       "        text-align: right;\n",
       "    }\n",
       "</style>\n",
       "<table border=\"1\" class=\"dataframe\">\n",
       "  <thead>\n",
       "    <tr style=\"text-align: right;\">\n",
       "      <th></th>\n",
       "      <th>ROC_AUC</th>\n",
       "      <th>Recall</th>\n",
       "      <th>Precision</th>\n",
       "      <th>F1</th>\n",
       "    </tr>\n",
       "  </thead>\n",
       "  <tbody>\n",
       "    <tr>\n",
       "      <th>0</th>\n",
       "      <td>0.621507</td>\n",
       "      <td>0.38</td>\n",
       "      <td>0.655172</td>\n",
       "      <td>0.481013</td>\n",
       "    </tr>\n",
       "  </tbody>\n",
       "</table>\n",
       "</div>"
      ],
      "text/plain": [
       "    ROC_AUC  Recall  Precision        F1\n",
       "0  0.621507    0.38   0.655172  0.481013"
      ]
     },
     "execution_count": 39,
     "metadata": {},
     "output_type": "execute_result"
    },
    {
     "data": {
      "image/png": "[encoded data removed]",
      "text/plain": [
       "<Figure size 600x400 with 1 Axes>"
      ]
     },
     "metadata": {
      "needs_background": "light"
     },
     "output_type": "display_data"
    }
   ],
   "source": [
    "# the most basic model\n",
    "\n",
    "random_forest = RandomForestClassifier()\n",
    "\n",
    "\n",
    "random_forest.fit(X_train2,y_train2)\n",
    "\n",
    "recall_rf1=[]\n",
    "precision_rf1=[]\n",
    "roc_rf1=[]\n",
    "f1_rf1=[]\n",
    "\n",
    "\n",
    "y_pred_rf1 = random_forest.predict(X_test2)\n",
    "\n",
    "recall_rf1.append(recall_score(y_test2, y_pred_rf1)) \n",
    "\n",
    "precision_rf1.append(precision_score(y_test2, y_pred_rf1)) \n",
    "\n",
    "roc_rf1.append(sklearn.metrics.roc_auc_score(y_test2,y_pred_rf1))\n",
    "\n",
    "f1_rf1.append(fbeta_score(y_test2, y_pred_rf1, beta=1))\n",
    "\n",
    "\n",
    "\n",
    "d_rf1= {'ROC_AUC': roc_rf1, 'Recall': recall_rf1,'Precision':precision_rf1,'F1':f1_rf1}\n",
    "\n",
    "dfd_rf1 = pd.DataFrame(data=d_rf1)\n",
    "\n",
    "confusion_matrix_show(confusion_matrix(y_test2, y_pred_rf1))\n",
    "roc_show(y_test2,y_pred_rf1)\n",
    "\n",
    "dfd_rf1"
   ]
  },
  {
   "cell_type": "markdown",
   "metadata": {},
   "source": [
    "As we can see its far from the optimised knn model however its better than our dummy model."
   ]
  },
  {
   "cell_type": "markdown",
   "metadata": {},
   "source": [
    "Lets try to improve it by First and foremost using our standarized data to see if there are any changes. We will compare the results from the previous results."
   ]
  },
  {
   "cell_type": "code",
   "execution_count": 40,
   "metadata": {},
   "outputs": [
    {
     "data": {
      "text/html": [
       "<div>\n",
       "<style scoped>\n",
       "    .dataframe tbody tr th:only-of-type {\n",
       "        vertical-align: middle;\n",
       "    }\n",
       "\n",
       "    .dataframe tbody tr th {\n",
       "        vertical-align: top;\n",
       "    }\n",
       "\n",
       "    .dataframe thead th {\n",
       "        text-align: right;\n",
       "    }\n",
       "</style>\n",
       "<table border=\"1\" class=\"dataframe\">\n",
       "  <thead>\n",
       "    <tr style=\"text-align: right;\">\n",
       "      <th></th>\n",
       "      <th>ROC_AUC</th>\n",
       "      <th>Recall</th>\n",
       "      <th>Precision</th>\n",
       "      <th>F1</th>\n",
       "    </tr>\n",
       "  </thead>\n",
       "  <tbody>\n",
       "    <tr>\n",
       "      <th>0</th>\n",
       "      <td>0.621507</td>\n",
       "      <td>0.380000</td>\n",
       "      <td>0.655172</td>\n",
       "      <td>0.481013</td>\n",
       "    </tr>\n",
       "    <tr>\n",
       "      <th>1</th>\n",
       "      <td>0.818766</td>\n",
       "      <td>0.588961</td>\n",
       "      <td>0.668068</td>\n",
       "      <td>0.606979</td>\n",
       "    </tr>\n",
       "  </tbody>\n",
       "</table>\n",
       "</div>"
      ],
      "text/plain": [
       "    ROC_AUC    Recall  Precision        F1\n",
       "0  0.621507  0.380000   0.655172  0.481013\n",
       "1  0.818766  0.588961   0.668068  0.606979"
      ]
     },
     "execution_count": 40,
     "metadata": {},
     "output_type": "execute_result"
    }
   ],
   "source": [
    "random_forest_stand = RandomForestClassifier()\n",
    "\n",
    "random_forest_stand.fit(X_train_stand,y_train_stand)\n",
    "\n",
    "# cross val\n",
    "score= cross_val_score(random_forest_stand,X_train_stand,y_train_stand,cv=10,scoring='recall')\n",
    "score2= cross_val_score(random_forest_stand,X_train_stand,y_train_stand,cv=10,scoring='roc_auc')\n",
    "score3= cross_val_score(random_forest_stand,X_train_stand,y_train_stand,cv=10,scoring='f1')\n",
    "score4= cross_val_score(random_forest_stand,X_train_stand,y_train_stand,cv=10,scoring='precision')\n",
    "\n",
    "\n",
    "roc_rf1.append(score2.mean())\n",
    "    \n",
    "recall_rf1.append(score.mean())\n",
    "    \n",
    "precision_rf1.append(score4.mean())\n",
    "    \n",
    "f1_rf1.append(score3.mean())\n",
    "\n",
    "d_rf2= {'ROC_AUC': roc_rf1, 'Recall': recall_rf1,'Precision':precision_rf1,'F1':f1_rf1}\n",
    "\n",
    "dfd_rf2 = pd.DataFrame(data=d_rf2)\n",
    "\n",
    "dfd_rf2"
   ]
  },
  {
   "cell_type": "markdown",
   "metadata": {},
   "source": [
    "There is a major improvement in the ROC and Recall scores, as well as an improvement in the F1 score, through standarization of the data and cross validation. Therefore, we will use our standarized dataset."
   ]
  },
  {
   "cell_type": "markdown",
   "metadata": {},
   "source": [
    "Now we need to use feature selection to see how many and what features are the best for our model.\n"
   ]
  },
  {
   "cell_type": "code",
   "execution_count": 87,
   "metadata": {},
   "outputs": [
    {
     "name": "stdout",
     "output_type": "stream",
     "text": [
      "done\n"
     ]
    }
   ],
   "source": [
    "modelIndex=range(0,17)\n",
    "modelI2=[]\n",
    "modelI2.append(0)\n",
    "\n",
    "rf = RandomForestClassifier()\n",
    "for i in range(1,17):\n",
    "    X_train_fs, X_test_fs, fs = select_features(X_train_stand, y_train_stand, X_test_stand,i) \n",
    "    rf.fit(X_train_fs,y_train)\n",
    "\n",
    "    model_improved2 = np.mean(cross_val_score(rf, X_train_fs, y_train, scoring='recall', cv=10))\n",
    "    \n",
    "    modelI2.append(model_improved2)    \n",
    "print(\"done\")"
   ]
  },
  {
   "cell_type": "code",
   "execution_count": 88,
   "metadata": {},
   "outputs": [
    {
     "data": {
      "text/html": [
       "<div>\n",
       "<style scoped>\n",
       "    .dataframe tbody tr th:only-of-type {\n",
       "        vertical-align: middle;\n",
       "    }\n",
       "\n",
       "    .dataframe tbody tr th {\n",
       "        vertical-align: top;\n",
       "    }\n",
       "\n",
       "    .dataframe thead th {\n",
       "        text-align: right;\n",
       "    }\n",
       "</style>\n",
       "<table border=\"1\" class=\"dataframe\">\n",
       "  <thead>\n",
       "    <tr style=\"text-align: right;\">\n",
       "      <th></th>\n",
       "      <th>K</th>\n",
       "      <th>Recall</th>\n",
       "    </tr>\n",
       "  </thead>\n",
       "  <tbody>\n",
       "    <tr>\n",
       "      <th>0</th>\n",
       "      <td>8</td>\n",
       "      <td>0.616667</td>\n",
       "    </tr>\n",
       "    <tr>\n",
       "      <th>1</th>\n",
       "      <td>7</td>\n",
       "      <td>0.612987</td>\n",
       "    </tr>\n",
       "    <tr>\n",
       "      <th>2</th>\n",
       "      <td>10</td>\n",
       "      <td>0.603030</td>\n",
       "    </tr>\n",
       "    <tr>\n",
       "      <th>3</th>\n",
       "      <td>9</td>\n",
       "      <td>0.602597</td>\n",
       "    </tr>\n",
       "    <tr>\n",
       "      <th>4</th>\n",
       "      <td>15</td>\n",
       "      <td>0.593506</td>\n",
       "    </tr>\n",
       "  </tbody>\n",
       "</table>\n",
       "</div>"
      ],
      "text/plain": [
       "    K    Recall\n",
       "0   8  0.616667\n",
       "1   7  0.612987\n",
       "2  10  0.603030\n",
       "3   9  0.602597\n",
       "4  15  0.593506"
      ]
     },
     "execution_count": 88,
     "metadata": {},
     "output_type": "execute_result"
    }
   ],
   "source": [
    "dfmake = {'K': modelIndex, 'Recall': modelI2}\n",
    "dfsmall = pd.DataFrame(data=dfmake)\n",
    "dfsmall.sort_values('Recall',ascending=False,inplace=True,ignore_index=True)\n",
    "dfsmall.head()"
   ]
  },
  {
   "cell_type": "markdown",
   "metadata": {},
   "source": [
    "As we can see the best amount of features to use for our RFC model is 8 features.\n",
    "lets check which features those are."
   ]
  },
  {
   "cell_type": "code",
   "execution_count": 89,
   "metadata": {},
   "outputs": [
    {
     "data": {
      "text/plain": [
       "array([False,  True, False, False,  True,  True, False,  True, False,\n",
       "       False, False,  True,  True, False,  True, False,  True])"
      ]
     },
     "execution_count": 89,
     "metadata": {},
     "output_type": "execute_result"
    }
   ],
   "source": [
    "X_train_fs, X_test_fs, fs = select_features(X_train_stand, y_train_stand, X_test_stand,8)\n",
    "\n",
    "features_list = [['Pregnancies', 'Glucose', 'BloodPressure', 'SkinThickness', 'Insulin',\n",
    "       'BMI', 'DiabetesPedigreeFunction', 'Age', 'High_BloodPressure',\n",
    "       'Elderly', 'Thickness_level', 'Weight_Healthy', 'Weight_Obese',\n",
    "       'Weight_UnderWeight', 'Glucose_Level_high_glucose_levels',\n",
    "       'Glucose_Level_low_glucose_levels',\n",
    "       'Glucose_Level_normal_glucose_levels']]\n",
    "\n",
    "fs.get_support()"
   ]
  },
  {
   "cell_type": "markdown",
   "metadata": {},
   "source": [
    "As we can see the features selected this time are:\n",
    "\n",
    "- Glucose\n",
    "- Insulin\n",
    "- BMI\n",
    "- Age\n",
    "- Weight_Healthy\n",
    "- Weight_Obese\n",
    "- Glucose_Level_high\n",
    "- Glucose_Level_normal"
   ]
  },
  {
   "cell_type": "markdown",
   "metadata": {},
   "source": [
    "Now to get the most optimised results all we need to do is find the best hyper parameters for our models."
   ]
  },
  {
   "cell_type": "code",
   "execution_count": 90,
   "metadata": {},
   "outputs": [],
   "source": [
    "# Number of trees in random forest\n",
    "n_estimators = [int(x) for x in np.linspace(start = 200, stop = 2000, num = 10)]\n",
    "# Number of features to consider at every split\n",
    "max_features = ['auto', 'sqrt']\n",
    "# Maximum number of levels in tree\n",
    "max_depth = [int(x) for x in np.linspace(10, 110, num = 11)]\n",
    "max_depth.append(None)\n",
    "# Minimum number of samples required to split a node\n",
    "min_samples_split = [2, 5, 10]\n",
    "# Minimum number of samples required at each leaf node\n",
    "min_samples_leaf = [1, 2, 4]\n",
    "# Method of selecting samples for training each tree\n",
    "bootstrap = [True, False]\n",
    "# Create the random grid\n",
    "random_grid = {'n_estimators': n_estimators,\n",
    "               'max_features': max_features,\n",
    "               'max_depth': max_depth,\n",
    "               'min_samples_split': min_samples_split,\n",
    "               'min_samples_leaf': min_samples_leaf,\n",
    "               'bootstrap': bootstrap}"
   ]
  },
  {
   "cell_type": "code",
   "execution_count": 91,
   "metadata": {},
   "outputs": [
    {
     "name": "stdout",
     "output_type": "stream",
     "text": [
      "Fitting 3 folds for each of 100 candidates, totalling 300 fits\n"
     ]
    },
    {
     "data": {
      "text/plain": [
       "RandomizedSearchCV(cv=3, estimator=RandomForestClassifier(), n_iter=100,\n",
       "                   n_jobs=-1,\n",
       "                   param_distributions={'bootstrap': [True, False],\n",
       "                                        'max_depth': [10, 20, 30, 40, 50, 60,\n",
       "                                                      70, 80, 90, 100, 110,\n",
       "                                                      None],\n",
       "                                        'max_features': ['auto', 'sqrt'],\n",
       "                                        'min_samples_leaf': [1, 2, 4],\n",
       "                                        'min_samples_split': [2, 5, 10],\n",
       "                                        'n_estimators': [200, 400, 600, 800,\n",
       "                                                         1000, 1200, 1400, 1600,\n",
       "                                                         1800, 2000]},\n",
       "                   random_state=42, scoring='recall', verbose=3)"
      ]
     },
     "execution_count": 91,
     "metadata": {},
     "output_type": "execute_result"
    }
   ],
   "source": [
    "# search across 100 different combinations, and use all availimba_pipelineores\n",
    "random_forest_cv = RandomForestClassifier()\n",
    "\n",
    "random_forest_cv.fit(X_train_fs,y_train_stand)\n",
    "\n",
    "rf_random = RandomizedSearchCV(estimator = random_forest_cv, param_distributions = random_grid, n_iter = 100, cv = 3, verbose=3, random_state=42, n_jobs = -1, scoring='recall')\n",
    "# Fit the random search model\n",
    "rf_random.fit(X_train_fs, y_train_stand)"
   ]
  },
  {
   "cell_type": "code",
   "execution_count": 92,
   "metadata": {},
   "outputs": [
    {
     "data": {
      "text/plain": [
       "{'n_estimators': 1600,\n",
       " 'min_samples_split': 5,\n",
       " 'min_samples_leaf': 1,\n",
       " 'max_features': 'auto',\n",
       " 'max_depth': 10,\n",
       " 'bootstrap': True}"
      ]
     },
     "execution_count": 92,
     "metadata": {},
     "output_type": "execute_result"
    }
   ],
   "source": [
    "rf_random.best_params_"
   ]
  },
  {
   "cell_type": "markdown",
   "metadata": {},
   "source": [
    "Now that we found our best hyper parameters we can fit it to our model and see the results."
   ]
  },
  {
   "cell_type": "code",
   "execution_count": 93,
   "metadata": {},
   "outputs": [
    {
     "data": {
      "text/html": [
       "<div>\n",
       "<style scoped>\n",
       "    .dataframe tbody tr th:only-of-type {\n",
       "        vertical-align: middle;\n",
       "    }\n",
       "\n",
       "    .dataframe tbody tr th {\n",
       "        vertical-align: top;\n",
       "    }\n",
       "\n",
       "    .dataframe thead th {\n",
       "        text-align: right;\n",
       "    }\n",
       "</style>\n",
       "<table border=\"1\" class=\"dataframe\">\n",
       "  <thead>\n",
       "    <tr style=\"text-align: right;\">\n",
       "      <th></th>\n",
       "      <th>ROC_AUC</th>\n",
       "      <th>Recall</th>\n",
       "      <th>Precision</th>\n",
       "      <th>F1</th>\n",
       "    </tr>\n",
       "  </thead>\n",
       "  <tbody>\n",
       "    <tr>\n",
       "      <th>0</th>\n",
       "      <td>0.820398</td>\n",
       "      <td>0.616667</td>\n",
       "      <td>0.650758</td>\n",
       "      <td>0.628641</td>\n",
       "    </tr>\n",
       "  </tbody>\n",
       "</table>\n",
       "</div>"
      ],
      "text/plain": [
       "    ROC_AUC    Recall  Precision        F1\n",
       "0  0.820398  0.616667   0.650758  0.628641"
      ]
     },
     "execution_count": 93,
     "metadata": {},
     "output_type": "execute_result"
    }
   ],
   "source": [
    "roc_tuned=[]\n",
    "recall_tuned=[]\n",
    "f1_tuned=[]\n",
    "precision_tuned=[]\n",
    "\n",
    "rf_tuned = rf_random.best_estimator_\n",
    "\n",
    "rf_tuned.fit(X_train_fs,y_train_stand)\n",
    "\n",
    "# cross val\n",
    "score= cross_val_score(rf_tuned,X_train_fs,y_train_stand,cv=10,scoring='recall')\n",
    "score2= cross_val_score(rf_tuned,X_train_fs,y_train_stand,cv=10,scoring='roc_auc')\n",
    "score3= cross_val_score(rf_tuned,X_train_fs,y_train_stand,cv=10,scoring='f1')\n",
    "score4= cross_val_score(rf_tuned,X_train_fs,y_train_stand,cv=10,scoring='precision')\n",
    "\n",
    "\n",
    "roc_tuned.append(score2.mean())\n",
    "    \n",
    "recall_tuned.append(score.mean())\n",
    "    \n",
    "precision_tuned.append(score4.mean())\n",
    "    \n",
    "f1_tuned.append(score3.mean())\n",
    "\n",
    "d_rf3= {'ROC_AUC': roc_tuned, 'Recall': recall_tuned,'Precision':precision_tuned,'F1':f1_tuned}\n",
    "\n",
    "dfd_rf3 = pd.DataFrame(data=d_rf3)\n",
    "\n",
    "dfd_rf3"
   ]
  },
  {
   "cell_type": "markdown",
   "metadata": {},
   "source": [
    "There is a slight improvement in the ROC, Recall, and F1. The final step is to get the best threshold"
   ]
  },
  {
   "cell_type": "code",
   "execution_count": 94,
   "metadata": {},
   "outputs": [],
   "source": [
    "X_train2_fs, X_test2_fs, y_train2, y_test2 = train_test_split(X_train_fs,y_train_stand, test_size=0.2, random_state=25)"
   ]
  },
  {
   "cell_type": "code",
   "execution_count": 95,
   "metadata": {},
   "outputs": [
    {
     "name": "stdout",
     "output_type": "stream",
     "text": [
      "rf train roc-auc: 0.9927552302801803\n",
      "rf test roc-auc: 0.8057534246575343\n",
      "final prints:0.8057534246575343\n",
      "[0.   0.   0.02 0.02 0.12 0.12 0.18 0.18 0.2  0.2  0.26 0.26 0.34 0.34\n",
      " 0.36 0.36 0.42 0.42 0.6  0.6  0.7  0.7  0.74 0.74 0.78 0.78 0.8  0.8\n",
      " 0.84 0.84 0.86 0.86 0.88 0.88 0.9  0.9  0.92 0.92 0.96 0.96 0.98 0.98\n",
      " 1.   1.  ]\n",
      "[0.         0.01369863 0.01369863 0.02739726 0.02739726 0.04109589\n",
      " 0.04109589 0.06849315 0.06849315 0.08219178 0.08219178 0.09589041\n",
      " 0.09589041 0.12328767 0.12328767 0.1369863  0.1369863  0.17808219\n",
      " 0.17808219 0.19178082 0.19178082 0.20547945 0.20547945 0.21917808\n",
      " 0.21917808 0.24657534 0.24657534 0.26027397 0.26027397 0.2739726\n",
      " 0.2739726  0.32876712 0.32876712 0.36986301 0.36986301 0.43835616\n",
      " 0.43835616 0.60273973 0.60273973 0.61643836 0.61643836 0.79452055\n",
      " 0.79452055 1.        ]\n",
      "[1.94965587 0.94965587 0.93925518 0.92220559 0.84231368 0.81053889\n",
      " 0.72043879 0.68133763 0.66855801 0.64785181 0.61892924 0.61705287\n",
      " 0.59957677 0.59488165 0.58583095 0.58558074 0.57629606 0.55186095\n",
      " 0.4760656  0.47062682 0.42187092 0.42013042 0.40431016 0.39456346\n",
      " 0.38512962 0.37674371 0.37656386 0.35712927 0.32966563 0.32434132\n",
      " 0.32427683 0.27438042 0.26903398 0.25085947 0.24927565 0.19766995\n",
      " 0.19730543 0.12514464 0.11535031 0.11403156 0.11243219 0.04645845\n",
      " 0.04156572 0.00653869]\n",
      "0.660958904109589\n",
      "Threshold value is: 0.32427683248330164 with score of 0.7901794490138525\n"
     ]
    }
   ],
   "source": [
    "rf_v4 = rf_random.best_estimator_\n",
    "\n",
    "rf_v4.fit(X_train2_fs,y_train2)\n",
    "\n",
    "y_scores = rf_v4.predict(X_test2_fs)\n",
    "\n",
    "prodict_prob_train=rf_v4.predict_proba(X_train2_fs)\n",
    "print('rf train roc-auc: {}'.format(roc_auc_score(y_train2,prodict_prob_train[:,1])))\n",
    "\n",
    "prodict_prob_test=rf_v4.predict_proba(X_test2_fs)\n",
    "print('rf test roc-auc: {}'.format(roc_auc_score(y_test2,prodict_prob_test[:,1])))\n",
    "\n",
    "preds=[]\n",
    "preds.append(pd.Series(rf_v4.predict_proba(X_test2_fs)[:,1]))\n",
    "predictions=pd.concat(preds,axis=1)\n",
    "print('final prints:{}'.format(roc_auc_score(y_test2,predictions)))\n",
    "\n",
    "fpr, tpr, thresholds = roc_curve(y_test2, predictions)\n",
    "print(tpr)\n",
    "print(fpr)\n",
    "print(thresholds)\n",
    "print(roc_auc_score(y_test2, y_scores))\n",
    "\n",
    "gmeans = (tpr * (1-fpr))**0.5\n",
    "ix = np.argmax(gmeans)\n",
    "\n",
    "optimal_idx = np.argmax(tpr-fpr)\n",
    "optimal_threshold = thresholds[optimal_idx]\n",
    "print(f\"Threshold value is: {optimal_threshold} with score of {gmeans[optimal_idx]}\" )"
   ]
  },
  {
   "cell_type": "markdown",
   "metadata": {},
   "source": [
    "Now that we found our optimised threshold for our model lets apply it and see our results."
   ]
  },
  {
   "cell_type": "code",
   "execution_count": 96,
   "metadata": {},
   "outputs": [
    {
     "data": {
      "image/png": "[encoded data removed]",
      "text/plain": [
       "<Figure size 432x288 with 2 Axes>"
      ]
     },
     "metadata": {
      "needs_background": "light"
     },
     "output_type": "display_data"
    },
    {
     "data": {
      "text/html": [
       "<div>\n",
       "<style scoped>\n",
       "    .dataframe tbody tr th:only-of-type {\n",
       "        vertical-align: middle;\n",
       "    }\n",
       "\n",
       "    .dataframe tbody tr th {\n",
       "        vertical-align: top;\n",
       "    }\n",
       "\n",
       "    .dataframe thead th {\n",
       "        text-align: right;\n",
       "    }\n",
       "</style>\n",
       "<table border=\"1\" class=\"dataframe\">\n",
       "  <thead>\n",
       "    <tr style=\"text-align: right;\">\n",
       "      <th></th>\n",
       "      <th>ROC_AUC</th>\n",
       "      <th>Recall</th>\n",
       "      <th>Precision</th>\n",
       "      <th>F1</th>\n",
       "    </tr>\n",
       "  </thead>\n",
       "  <tbody>\n",
       "    <tr>\n",
       "      <th>0</th>\n",
       "      <td>0.789863</td>\n",
       "      <td>0.84</td>\n",
       "      <td>0.688525</td>\n",
       "      <td>0.756757</td>\n",
       "    </tr>\n",
       "  </tbody>\n",
       "</table>\n",
       "</div>"
      ],
      "text/plain": [
       "    ROC_AUC  Recall  Precision        F1\n",
       "0  0.789863    0.84   0.688525  0.756757"
      ]
     },
     "execution_count": 96,
     "metadata": {},
     "output_type": "execute_result"
    },
    {
     "data": {
      "image/png": "[encoded data removed]",
      "text/plain": [
       "<Figure size 600x400 with 1 Axes>"
      ]
     },
     "metadata": {
      "needs_background": "light"
     },
     "output_type": "display_data"
    }
   ],
   "source": [
    "threshold = optimal_threshold\n",
    "\n",
    "random_forest_opt = rf_random.best_estimator_\n",
    "\n",
    "\n",
    "random_forest_opt.fit(X_train2_fs,y_train2)\n",
    "\n",
    "predicted_proba = random_forest_opt.predict_proba(X_test2_fs)\n",
    "y_pred_opt = (predicted_proba [:,1] >= threshold).astype('int')\n",
    "\n",
    "accuracy = accuracy_score(y_test2, y_pred_opt)\n",
    "\n",
    "\n",
    "# optimized model\n",
    "\n",
    "recall_opt=[]\n",
    "precision_opt=[]\n",
    "roc_opt=[]\n",
    "f1_opt=[]\n",
    "\n",
    "\n",
    "\n",
    "recall_opt.append(recall_score(y_test2, y_pred_opt)) \n",
    "\n",
    "precision_opt.append(precision_score(y_test2, y_pred_opt)) \n",
    "\n",
    "roc_opt.append(sklearn.metrics.roc_auc_score(y_test2,y_pred_opt))\n",
    "\n",
    "f1_opt.append(fbeta_score(y_test2, y_pred_opt, beta=1))\n",
    "\n",
    "\n",
    "\n",
    "d_opt= {'ROC_AUC': roc_opt, 'Recall': recall_opt,'Precision':precision_opt,'F1':f1_opt}\n",
    "\n",
    "dfd_opt = pd.DataFrame(data=d_opt)\n",
    "\n",
    "confusion_matrix_show(confusion_matrix(y_test2, y_pred_opt))\n",
    "roc_show(y_test2,y_pred_opt)\n",
    "\n",
    "dfd_opt"
   ]
  },
  {
   "cell_type": "markdown",
   "metadata": {},
   "source": [
    "As we can see after applying the threshold and using our most optimised model we have an astounding improvment(except roc auc)! way to go!"
   ]
  },
  {
   "cell_type": "markdown",
   "metadata": {},
   "source": [
    "# Testing Our Best Model"
   ]
  },
  {
   "cell_type": "markdown",
   "metadata": {},
   "source": [
    "After testing two classification models and optimizing them through different methods (scaling, feature selection, hyperparameter tuning), we have chosen the following to be our final model:\n",
    "\n",
    "The Random Forest Classifier model, with the following features and hyperparameters:"
   ]
  },
  {
   "cell_type": "code",
   "execution_count": 97,
   "metadata": {},
   "outputs": [],
   "source": [
    "X_train_fs, X_test_fs, fs = select_features(X_train_stand, y_train_stand, X_test_stand,8)"
   ]
  },
  {
   "cell_type": "markdown",
   "metadata": {},
   "source": [
    "Features Selected:\n",
    "\n",
    "- Glucose\n",
    "- Insulin\n",
    "- BMI\n",
    "- Age\n",
    "- Weight_Healthy\n",
    "- Weight_Obese\n",
    "- Glucose_Level_high\n",
    "- Glucose_Level_normal"
   ]
  },
  {
   "cell_type": "code",
   "execution_count": 98,
   "metadata": {},
   "outputs": [
    {
     "data": {
      "image/png": "[encoded data removed]",
      "text/plain": [
       "<Figure size 432x288 with 2 Axes>"
      ]
     },
     "metadata": {
      "needs_background": "light"
     },
     "output_type": "display_data"
    },
    {
     "data": {
      "text/html": [
       "<div>\n",
       "<style scoped>\n",
       "    .dataframe tbody tr th:only-of-type {\n",
       "        vertical-align: middle;\n",
       "    }\n",
       "\n",
       "    .dataframe tbody tr th {\n",
       "        vertical-align: top;\n",
       "    }\n",
       "\n",
       "    .dataframe thead th {\n",
       "        text-align: right;\n",
       "    }\n",
       "</style>\n",
       "<table border=\"1\" class=\"dataframe\">\n",
       "  <thead>\n",
       "    <tr style=\"text-align: right;\">\n",
       "      <th></th>\n",
       "      <th>ROC_AUC</th>\n",
       "      <th>Recall</th>\n",
       "      <th>Precision</th>\n",
       "      <th>F1</th>\n",
       "    </tr>\n",
       "  </thead>\n",
       "  <tbody>\n",
       "    <tr>\n",
       "      <th>0</th>\n",
       "      <td>0.760899</td>\n",
       "      <td>0.745098</td>\n",
       "      <td>0.622951</td>\n",
       "      <td>0.678571</td>\n",
       "    </tr>\n",
       "  </tbody>\n",
       "</table>\n",
       "</div>"
      ],
      "text/plain": [
       "    ROC_AUC    Recall  Precision        F1\n",
       "0  0.760899  0.745098   0.622951  0.678571"
      ]
     },
     "execution_count": 98,
     "metadata": {},
     "output_type": "execute_result"
    },
    {
     "data": {
      "image/png": "[encoded data removed]",
      "text/plain": [
       "<Figure size 600x400 with 1 Axes>"
      ]
     },
     "metadata": {
      "needs_background": "light"
     },
     "output_type": "display_data"
    }
   ],
   "source": [
    "random_forest_opt = rf_random.best_estimator_\n",
    "\n",
    "\n",
    "random_forest_opt.fit(X_train_fs,y_train)\n",
    "\n",
    "predicted_proba = random_forest_opt.predict_proba(X_test_fs)\n",
    "y_pred_opt = (predicted_proba [:,1] >= threshold).astype('int')\n",
    "\n",
    "\n",
    "# optimized model\n",
    "\n",
    "recall_opt=[]\n",
    "precision_opt=[]\n",
    "roc_opt=[]\n",
    "f1_opt=[]\n",
    "\n",
    "\n",
    "\n",
    "recall_opt.append(recall_score(y_test, y_pred_opt)) \n",
    "\n",
    "precision_opt.append(precision_score(y_test, y_pred_opt)) \n",
    "\n",
    "roc_opt.append(sklearn.metrics.roc_auc_score(y_test,y_pred_opt))\n",
    "\n",
    "f1_opt.append(fbeta_score(y_test, y_pred_opt, beta=1))\n",
    "\n",
    "\n",
    "\n",
    "d_opt= {'ROC_AUC': roc_opt, 'Recall': recall_opt,'Precision':precision_opt,'F1':f1_opt}\n",
    "\n",
    "dfd_opt = pd.DataFrame(data=d_opt)\n",
    "\n",
    "confusion_matrix_show(confusion_matrix(y_test, y_pred_opt))\n",
    "roc_show(y_test,y_pred_opt)\n",
    "\n",
    "dfd_opt"
   ]
  },
  {
   "cell_type": "code",
   "execution_count": null,
   "metadata": {},
   "outputs": [],
   "source": []
  }
 ],
 "metadata": {
  "kernelspec": {
   "display_name": "Python 3",
   "language": "python",
   "name": "python3"
  },
  "language_info": {
   "codemirror_mode": {
    "name": "ipython",
    "version": 3
   },
   "file_extension": ".py",
   "mimetype": "text/x-python",
   "name": "python",
   "nbconvert_exporter": "python",
   "pygments_lexer": "ipython3",
   "version": "3.8.8"
  }
 },
 "nbformat": 4,
 "nbformat_minor": 4
}
